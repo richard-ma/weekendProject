{
 "cells": [
  {
   "cell_type": "markdown",
   "metadata": {},
   "source": [
    "# Byterun Python 解释器\n",
    "\n",
    "[教程链接](http://qingyunha.github.io/taotao/)\n",
    "\n",
    "根据输入表达式生成对应的指令集\n",
    "\n",
    "例：\n",
    "* 输入：7+5\n",
    "* 输出：\n",
    "```\n",
    "what_to_execute = {\n",
    "    \"instructions\": [(\"LOAD_VALUE\", 0),  # the first number\n",
    "                     (\"LOAD_VALUE\", 1),  # the second number\n",
    "                     (\"ADD_TWO_VALUES\", None),\n",
    "                     (\"PRINT_ANSWER\", None)],\n",
    "    \"numbers\": [7, 5] }\n",
    "```\n",
    "\n",
    "以下是第一个版本的Interpreter"
   ]
  },
  {
   "cell_type": "code",
   "execution_count": 67,
   "metadata": {},
   "outputs": [],
   "source": [
    "class Interpreter:\n",
    "    def __init__(self):\n",
    "        self.stack = []\n",
    "    \n",
    "    def LOAD_VALUE(self, number):\n",
    "        self.stack.append(number)\n",
    "    \n",
    "    def PRINT_ANSWER(self):\n",
    "        answer = self.stack.pop()\n",
    "        print(answer)\n",
    "\n",
    "    def ADD_TWO_VALUES(self):\n",
    "        first_num = self.stack.pop()\n",
    "        second_num = self.stack.pop()\n",
    "        total = first_num + second_num\n",
    "        self.stack.append(total)\n",
    "\n",
    "    def run_code(self, what_to_execute):\n",
    "        instructions = what_to_execute[\"instructions\"]\n",
    "        numbers = what_to_execute[\"numbers\"]\n",
    "        for each_step in instructions:\n",
    "            instruction, argument = each_step\n",
    "            if instruction == \"LOAD_VALUE\":\n",
    "                number = numbers[argument]\n",
    "                self.LOAD_VALUE(number)\n",
    "            elif instruction == \"ADD_TWO_VALUES\":\n",
    "                self.ADD_TWO_VALUES()\n",
    "            elif instruction == \"PRINT_ANSWER\":\n",
    "                self.PRINT_ANSWER()"
   ]
  },
  {
   "cell_type": "markdown",
   "metadata": {},
   "source": [
    "这里的what_to_execute用于测试Interpreter的功能，作为测试输入使用。"
   ]
  },
  {
   "cell_type": "code",
   "execution_count": 68,
   "metadata": {},
   "outputs": [],
   "source": [
    "what_to_execute = {\n",
    "    \"instructions\": [(\"LOAD_VALUE\", 0),  # the first number\n",
    "                     (\"LOAD_VALUE\", 1),  # the second number\n",
    "                     (\"ADD_TWO_VALUES\", None),\n",
    "                     (\"PRINT_ANSWER\", None)],\n",
    "    \"numbers\": [7, 5] }"
   ]
  },
  {
   "cell_type": "markdown",
   "metadata": {},
   "source": [
    "开始测试"
   ]
  },
  {
   "cell_type": "code",
   "execution_count": 69,
   "metadata": {},
   "outputs": [
    {
     "name": "stdout",
     "output_type": "stream",
     "text": [
      "12\n"
     ]
    }
   ],
   "source": [
    "interpreter = Interpreter()\n",
    "interpreter.run_code(what_to_execute)"
   ]
  },
  {
   "cell_type": "markdown",
   "metadata": {},
   "source": [
    "更新更复杂的指令集，添加更多的加法组成连加"
   ]
  },
  {
   "cell_type": "code",
   "execution_count": 70,
   "metadata": {},
   "outputs": [],
   "source": [
    "what_to_execute = {\n",
    "        \"instructions\": [(\"LOAD_VALUE\", 0),\n",
    "                         (\"LOAD_VALUE\", 1),\n",
    "                         (\"ADD_TWO_VALUES\", None),\n",
    "                         (\"LOAD_VALUE\", 2),\n",
    "                         (\"ADD_TWO_VALUES\", None),\n",
    "                         (\"PRINT_ANSWER\", None)],\n",
    "        \"numbers\": [7, 5, 8] }"
   ]
  },
  {
   "cell_type": "code",
   "execution_count": 71,
   "metadata": {},
   "outputs": [
    {
     "name": "stdout",
     "output_type": "stream",
     "text": [
      "20\n"
     ]
    }
   ],
   "source": [
    "interpreter = Interpreter()\n",
    "interpreter.run_code(what_to_execute)"
   ]
  },
  {
   "cell_type": "markdown",
   "metadata": {},
   "source": [
    "添加变量支持"
   ]
  },
  {
   "cell_type": "code",
   "execution_count": 72,
   "metadata": {},
   "outputs": [],
   "source": [
    "class Interpreter:\n",
    "    def __init__(self):\n",
    "        self.stack = []\n",
    "        self.environment = {}\n",
    "    \n",
    "    def STORE_NAME(self, name):\n",
    "        val = self.stack.pop()\n",
    "        self.environment[name] = val\n",
    "\n",
    "    def LOAD_NAME(self, name):\n",
    "        val = self.environment[name]\n",
    "        self.stack.append(val)\n",
    "\n",
    "    def parse_argument(self, instruction, argument, what_to_execute):\n",
    "        numbers = [\"LOAD_VALUE\"]\n",
    "        names = [\"LOAD_NAME\", \"STORE_NAME\"]\n",
    "    \n",
    "        if instruction in numbers:\n",
    "            argument = what_to_execute[\"numbers\"][argument]\n",
    "        elif instruction in names:\n",
    "            argument = what_to_execute[\"names\"][argument]\n",
    "        \n",
    "        return argument\n",
    "\n",
    "    def LOAD_VALUE(self, number):\n",
    "        self.stack.append(number)\n",
    "    \n",
    "    def PRINT_ANSWER(self):\n",
    "        answer = self.stack.pop()\n",
    "        print(answer)\n",
    "\n",
    "    def ADD_TWO_VALUES(self):\n",
    "        first_num = self.stack.pop()\n",
    "        second_num = self.stack.pop()\n",
    "        total = first_num + second_num\n",
    "        self.stack.append(total)\n",
    "\n",
    "    def run_code(self, what_to_execute):\n",
    "        instructions = what_to_execute[\"instructions\"]\n",
    "        for each_step in instructions:\n",
    "            instruction, argument = each_step\n",
    "            argument = self.parse_argument(instruction, argument, what_to_execute)\n",
    "\n",
    "            if instruction == \"LOAD_VALUE\":\n",
    "                self.LOAD_VALUE(argument)\n",
    "            elif instruction == \"ADD_TWO_VALUES\":\n",
    "                self.ADD_TWO_VALUES()\n",
    "            elif instruction == \"PRINT_ANSWER\":\n",
    "                self.PRINT_ANSWER()\n",
    "            elif instruction == \"STORE_NAME\":\n",
    "                self.STORE_NAME(argument)\n",
    "            elif instruction == \"LOAD_NAME\":\n",
    "                self.LOAD_NAME(argument)"
   ]
  },
  {
   "cell_type": "markdown",
   "metadata": {},
   "source": [
    "测试新添加的两个指令STORE_NAME和LOAD_NAME"
   ]
  },
  {
   "cell_type": "code",
   "execution_count": 73,
   "metadata": {},
   "outputs": [
    {
     "name": "stdout",
     "output_type": "stream",
     "text": [
      "3\n"
     ]
    }
   ],
   "source": [
    "what_to_execute = {\n",
    "        \"instructions\": [(\"LOAD_VALUE\", 0),\n",
    "                         (\"STORE_NAME\", 0),\n",
    "                         (\"LOAD_VALUE\", 1),\n",
    "                         (\"STORE_NAME\", 1),\n",
    "                         (\"LOAD_NAME\", 0),\n",
    "                         (\"LOAD_NAME\", 1),\n",
    "                         (\"ADD_TWO_VALUES\", None),\n",
    "                         (\"PRINT_ANSWER\", None)],\n",
    "        \"numbers\": [1, 2],\n",
    "        \"names\":   [\"a\", \"b\"] }\n",
    "\n",
    "interpreter = Interpreter()\n",
    "interpreter.run_code(what_to_execute)"
   ]
  },
  {
   "cell_type": "markdown",
   "metadata": {},
   "source": [
    "将多个if-elif语句合并为执行框架"
   ]
  },
  {
   "cell_type": "code",
   "execution_count": 74,
   "metadata": {},
   "outputs": [],
   "source": [
    "class Interpreter:\n",
    "    def __init__(self):\n",
    "        self.stack = []\n",
    "        self.environment = {}\n",
    "    \n",
    "    def STORE_NAME(self, name):\n",
    "        val = self.stack.pop()\n",
    "        self.environment[name] = val\n",
    "\n",
    "    def LOAD_NAME(self, name):\n",
    "        val = self.environment[name]\n",
    "        self.stack.append(val)\n",
    "\n",
    "    def parse_argument(self, instruction, argument, what_to_execute):\n",
    "        numbers = [\"LOAD_VALUE\"]\n",
    "        names = [\"LOAD_NAME\", \"STORE_NAME\"]\n",
    "    \n",
    "        if instruction in numbers:\n",
    "            argument = what_to_execute[\"numbers\"][argument]\n",
    "        elif instruction in names:\n",
    "            argument = what_to_execute[\"names\"][argument]\n",
    "        \n",
    "        return argument\n",
    "\n",
    "    def LOAD_VALUE(self, number):\n",
    "        self.stack.append(number)\n",
    "    \n",
    "    def PRINT_ANSWER(self):\n",
    "        answer = self.stack.pop()\n",
    "        print(answer)\n",
    "\n",
    "    def ADD_TWO_VALUES(self):\n",
    "        first_num = self.stack.pop()\n",
    "        second_num = self.stack.pop()\n",
    "        total = first_num + second_num\n",
    "        self.stack.append(total)\n",
    "\n",
    "    def execute(self, what_to_execute):\n",
    "        instructions = what_to_execute[\"instructions\"]\n",
    "        for each_step in instructions:\n",
    "            instruction, argument = each_step\n",
    "            argument = self.parse_argument(instruction, argument, what_to_execute)\n",
    "\n",
    "            bytecode_method = getattr(self, instruction)\n",
    "            if argument is None:\n",
    "                bytecode_method()\n",
    "            else:\n",
    "                bytecode_method(argument)"
   ]
  },
  {
   "cell_type": "code",
   "execution_count": 75,
   "metadata": {},
   "outputs": [
    {
     "name": "stdout",
     "output_type": "stream",
     "text": [
      "3\n"
     ]
    }
   ],
   "source": [
    "what_to_execute = {\n",
    "        \"instructions\": [(\"LOAD_VALUE\", 0),\n",
    "                         (\"STORE_NAME\", 0),\n",
    "                         (\"LOAD_VALUE\", 1),\n",
    "                         (\"STORE_NAME\", 1),\n",
    "                         (\"LOAD_NAME\", 0),\n",
    "                         (\"LOAD_NAME\", 1),\n",
    "                         (\"ADD_TWO_VALUES\", None),\n",
    "                         (\"PRINT_ANSWER\", None)],\n",
    "        \"numbers\": [1, 2],\n",
    "        \"names\":   [\"a\", \"b\"] }\n",
    "\n",
    "interpreter = Interpreter()\n",
    "interpreter.execute(what_to_execute)"
   ]
  },
  {
   "cell_type": "markdown",
   "metadata": {},
   "source": [
    "## 真正的Python字节码"
   ]
  },
  {
   "cell_type": "code",
   "execution_count": 76,
   "metadata": {},
   "outputs": [],
   "source": [
    "def cond():\n",
    "    x = 3\n",
    "    if x < 5:\n",
    "        return 'yes'\n",
    "    else:\n",
    "        return 'no'"
   ]
  },
  {
   "cell_type": "code",
   "execution_count": 77,
   "metadata": {},
   "outputs": [
    {
     "data": {
      "text/plain": [
       "b'd\\x01}\\x00|\\x00d\\x02k\\x00r\\x08d\\x03S\\x00d\\x04S\\x00'"
      ]
     },
     "execution_count": 77,
     "metadata": {},
     "output_type": "execute_result"
    }
   ],
   "source": [
    "cond.__code__.co_code # func_name.__code__.co_code就是函数对象的字节码"
   ]
  },
  {
   "cell_type": "code",
   "execution_count": 78,
   "metadata": {},
   "outputs": [
    {
     "data": {
      "text/plain": [
       "[100, 1, 125, 0, 124, 0, 100, 2, 107, 0, 114, 8, 100, 3, 83, 0, 100, 4, 83, 0]"
      ]
     },
     "execution_count": 78,
     "metadata": {},
     "output_type": "execute_result"
    }
   ],
   "source": [
    "list(cond.__code__.co_code) # 解析字节码"
   ]
  },
  {
   "cell_type": "code",
   "execution_count": 79,
   "metadata": {},
   "outputs": [
    {
     "name": "stdout",
     "output_type": "stream",
     "text": [
      "  2           0 LOAD_CONST               1 (3)\n",
      "              2 STORE_FAST               0 (x)\n",
      "\n",
      "  3           4 LOAD_FAST                0 (x)\n",
      "              6 LOAD_CONST               2 (5)\n",
      "              8 COMPARE_OP               0 (<)\n",
      "             10 POP_JUMP_IF_FALSE        8 (to 16)\n",
      "\n",
      "  4          12 LOAD_CONST               3 ('yes')\n",
      "             14 RETURN_VALUE\n",
      "\n",
      "  6     >>   16 LOAD_CONST               4 ('no')\n",
      "             18 RETURN_VALUE\n"
     ]
    }
   ],
   "source": [
    "import dis\n",
    "\n",
    "dis.dis(cond) # 解析字节码"
   ]
  },
  {
   "cell_type": "code",
   "execution_count": 80,
   "metadata": {},
   "outputs": [
    {
     "data": {
      "text/plain": [
       "'LOAD_CONST'"
      ]
     },
     "execution_count": 80,
     "metadata": {},
     "output_type": "execute_result"
    }
   ],
   "source": [
    "dis.opname[100]"
   ]
  },
  {
   "cell_type": "code",
   "execution_count": 81,
   "metadata": {},
   "outputs": [
    {
     "data": {
      "text/plain": [
       "'STORE_FAST'"
      ]
     },
     "execution_count": 81,
     "metadata": {},
     "output_type": "execute_result"
    }
   ],
   "source": [
    "dis.opname[125]"
   ]
  },
  {
   "cell_type": "markdown",
   "metadata": {},
   "source": [
    "## Byterun\n",
    "\n",
    "* VirtualMachine类，它管理高层结构，frame调用栈，指令到操作的映射。这是一个比前面Inteprter对象更复杂的版本。\n",
    "* Frame类，每个Frame类都有一个code object，并且管理者其他一些必要的状态信息，全局和局部命名空间，指向调用它的frame的指针和最后执行的字节码指令。\n",
    "* Function类，它被用来代替真正的Python函数。回想一下，调用函数时会创建一个新的frame。我们自己实现Function，所以我们控制新frame的创建。\n",
    "* Block类，它只是包装了代码块的3个属性。（代码块的细节不是解释器的核心，我们不会花时间在它身上，把它列在这里，是因为Byterun需要它。）"
   ]
  },
  {
   "cell_type": "code",
   "execution_count": 82,
   "metadata": {},
   "outputs": [],
   "source": [
    "class Frame: # 这是一个属性集合，没有任何方法，相当于一个结构体\n",
    "    def __init__(self, code_obj, global_names, local_names, prev_frame):\n",
    "        self.code_obj = code_obj # 编译器生成的代码段\n",
    "        self.global_names = global_names\n",
    "        self.local_names = local_names\n",
    "        self.prev_frame = prev_frame # 父级frame，及调用本frame的frame\n",
    "        self.stack = []\n",
    "        if prev_frame:\n",
    "            self.buildin_names = prev_frame.buildin_names\n",
    "        else:\n",
    "            self.buildin_names = local_names['__buildins__']\n",
    "            if hasattr(self.buildin_names, '__dict__'):\n",
    "                self.buildin_names = self.buildin_names.__dict__\n",
    "        \n",
    "        self.last_instruction = 0\n",
    "        self.block_stack = []"
   ]
  },
  {
   "cell_type": "code",
   "execution_count": 83,
   "metadata": {},
   "outputs": [],
   "source": [
    "class VirtualMachineError(Exception):\n",
    "    pass\n",
    "\n",
    "\n",
    "class VirtualMachine:\n",
    "    def __init__(self):\n",
    "        self.frames = [] # frame的栈\n",
    "        self.frame = None # 当前frame\n",
    "        self.return_value = None # frame的返回值（函数return语句返回的值）\n",
    "        self.last_exception = None\n",
    "\n",
    "    # 整个类的入口点\n",
    "    def run_code(self, code, global_names=None, local_names=None):\n",
    "        frame = self.make_frame(code, global_names=global_names, local_names=local_names)\n",
    "        self.run_frame(frame)\n",
    "\n",
    "    # frame 的相关操作方法\n",
    "\n",
    "    # 创建新frame\n",
    "    def make_frame(self, code, callargs={}, global_names=None, local_names=None):\n",
    "        if global_names is not None and local_names is not None:\n",
    "            local_names = global_names\n",
    "        elif self.frames: # 这不是第一个module级别的frame\n",
    "            global_names = self.frame.global_names\n",
    "            local_names = {}\n",
    "        else: # module级别的frame\n",
    "            global_names = local_names = {\n",
    "                '__buildins__': __buildins__,\n",
    "                '__name__': '__main__',\n",
    "                '__doc__': None,\n",
    "                '__package__': None,\n",
    "            }\n",
    "        local_names.update(callargs) # 将函数调用参数都添加到frame的本地数据栈中\n",
    "        frame = Frame(code, global_names, local_names, self.frame) # 实例化frame对象\n",
    "        return frame\n",
    "\n",
    "    def push_frame(self, frame): # frame入栈\n",
    "        self.frames.append(frame)\n",
    "        self.frame = frame\n",
    "\n",
    "    def pop_frame(self): # frame出栈\n",
    "        self.frames.pop()\n",
    "        if self.frames: # 更新当前frame，如果frame栈中没有frame，则当前frame为None\n",
    "            self.frame = self.frames[-1]\n",
    "        else:\n",
    "            self.frame = None\n",
    "\n",
    "    def run_frame(self):\n",
    "        pass"
   ]
  },
  {
   "cell_type": "code",
   "execution_count": null,
   "metadata": {},
   "outputs": [],
   "source": [
    "class Function:\n",
    "    __slots__ = [\n",
    "        'func_code', 'func_name', 'func_defaults', 'func_globals',\n",
    "        'func_locals', 'func_dict', 'func_closure',\n",
    "        '__name__', '__dict__', '__doc__',\n",
    "        '_vm', '_func',\n",
    "    ]\n",
    "\n",
    "    def __init__(self, name, code, globs, defaults, closure, vm):\n",
    "        self._vm = vm\n",
    "        self.func_code = code\n",
    "        self.func_name = self.__name__ = name or code.co_name\n",
    "        self.func_defaults = tuple(defaults)\n",
    "        self.func_globals = globs\n",
    "        self.func_locals = self._vm.frame.f_locals\n",
    "        self.__dict__ = {}\n",
    "        self.func_closure = closure\n",
    "        self.__doc__ = code.co_consts[0] if code.co_consts else None\n",
    "\n",
    "        kw = {\n",
    "            'argdefs': self.func_defaults,\n",
    "        }\n",
    "        if closure:\n",
    "            kw['closure'] = tuple(make_cell(0) for _ in closure)\n",
    "        self._func = types.FunctionType(code, globs, **kw)\n",
    "\n",
    "    def __call__(self, *args, **kwargs):\n",
    "        callargs = inspect.getcallargs(self._func, *args, **kwargs)\n",
    "\n",
    "        frame = self._vm.make_frame(\n",
    "            self.func_code, callargs, self.func_globals, {}\n",
    "        )"
   ]
  }
 ],
 "metadata": {
  "kernelspec": {
   "display_name": "venv",
   "language": "python",
   "name": "python3"
  },
  "language_info": {
   "codemirror_mode": {
    "name": "ipython",
    "version": 3
   },
   "file_extension": ".py",
   "mimetype": "text/x-python",
   "name": "python",
   "nbconvert_exporter": "python",
   "pygments_lexer": "ipython3",
   "version": "3.10.11"
  }
 },
 "nbformat": 4,
 "nbformat_minor": 2
}
