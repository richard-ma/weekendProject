{
 "cells": [
  {
   "attachments": {},
   "cell_type": "markdown",
   "metadata": {},
   "source": [
    "# 堆 heapq"
   ]
  },
  {
   "cell_type": "code",
   "execution_count": 2,
   "metadata": {},
   "outputs": [],
   "source": [
    "import heapq"
   ]
  },
  {
   "attachments": {},
   "cell_type": "markdown",
   "metadata": {},
   "source": [
    "## 基本操作"
   ]
  },
  {
   "cell_type": "markdown",
   "metadata": {},
   "source": [
    "### 创建堆"
   ]
  },
  {
   "cell_type": "code",
   "execution_count": 21,
   "metadata": {},
   "outputs": [],
   "source": [
    "h = [] # 直接对list使用堆函数操作即可"
   ]
  },
  {
   "attachments": {},
   "cell_type": "markdown",
   "metadata": {},
   "source": [
    "### 添加和弹出"
   ]
  },
  {
   "cell_type": "code",
   "execution_count": 36,
   "metadata": {},
   "outputs": [
    {
     "data": {
      "text/plain": [
       "1"
      ]
     },
     "execution_count": 36,
     "metadata": {},
     "output_type": "execute_result"
    }
   ],
   "source": [
    "h = list()\n",
    "\n",
    "heapq.heappush(h, 2)\n",
    "heapq.heappush(h, 3)\n",
    "heapq.heappush(h, 1)\n",
    "\n",
    "heapq.heappop(h) # 这里可以看出h是一个最小堆"
   ]
  },
  {
   "attachments": {},
   "cell_type": "markdown",
   "metadata": {},
   "source": [
    "### 最大值和最小值"
   ]
  },
  {
   "cell_type": "code",
   "execution_count": 24,
   "metadata": {},
   "outputs": [
    {
     "data": {
      "text/plain": [
       "([0], [9])"
      ]
     },
     "execution_count": 24,
     "metadata": {},
     "output_type": "execute_result"
    }
   ],
   "source": [
    "h = list()\n",
    "\n",
    "for i in range(10):\n",
    "    heapq.heappush(h, i)\n",
    "\n",
    "(heapq.nsmallest(1, h), heapq.nlargest(1, h)) # 这里返回的结果是list形式，而不是直接的数值"
   ]
  },
  {
   "attachments": {},
   "cell_type": "markdown",
   "metadata": {},
   "source": [
    "## 高级操作"
   ]
  },
  {
   "cell_type": "markdown",
   "metadata": {},
   "source": [
    "### 合并"
   ]
  },
  {
   "cell_type": "code",
   "execution_count": 30,
   "metadata": {},
   "outputs": [
    {
     "data": {
      "text/plain": [
       "[2, 3, 4, 5, 6, 7]"
      ]
     },
     "execution_count": 30,
     "metadata": {},
     "output_type": "execute_result"
    }
   ],
   "source": [
    "h = list()\n",
    "p = list()\n",
    "\n",
    "for i in [2, 3, 4]:\n",
    "    heapq.heappush(h, i)\n",
    "for i in [5, 6, 7]:\n",
    "    heapq.heappush(p, i)\n",
    "\n",
    "l = heapq.merge(h, p)\n",
    "list(l)"
   ]
  },
  {
   "attachments": {},
   "cell_type": "markdown",
   "metadata": {},
   "source": [
    "### 最大的n个值和最小的n个值\n"
   ]
  },
  {
   "cell_type": "code",
   "execution_count": 31,
   "metadata": {},
   "outputs": [
    {
     "data": {
      "text/plain": [
       "([0, 1, 2], [9, 8, 7])"
      ]
     },
     "execution_count": 31,
     "metadata": {},
     "output_type": "execute_result"
    }
   ],
   "source": [
    "h = list()\n",
    "\n",
    "for i in range(10):\n",
    "    heapq.heappush(h, i)\n",
    "\n",
    "n = 3\n",
    "(heapq.nsmallest(n, h), heapq.nlargest(n, h)) # 这里返回的结果是list形式，而不是直接的数值"
   ]
  },
  {
   "attachments": {},
   "cell_type": "markdown",
   "metadata": {},
   "source": [
    "## 特性和用途\n"
   ]
  },
  {
   "attachments": {},
   "cell_type": "markdown",
   "metadata": {},
   "source": [
    "### 使用heapq建立的是最小堆，栈顶维最小元素\n"
   ]
  },
  {
   "cell_type": "code",
   "execution_count": 37,
   "metadata": {},
   "outputs": [
    {
     "data": {
      "text/plain": [
       "2"
      ]
     },
     "execution_count": 37,
     "metadata": {},
     "output_type": "execute_result"
    }
   ],
   "source": [
    "h = list()\n",
    "\n",
    "for i in [3, 8, 2, 5, 6]:\n",
    "    heapq.heappush(h, i)"
   ]
  },
  {
   "cell_type": "code",
   "execution_count": null,
   "metadata": {},
   "outputs": [],
   "source": [
    "heapq.heappop(h) # 返回最小值2，证明栈顶是最小元素"
   ]
  },
  {
   "attachments": {},
   "cell_type": "markdown",
   "metadata": {},
   "source": [
    "### 建立最大堆\n",
    "* 使用负号来建立最大堆 (仅适用于堆内数值全部为正或全部为负时)"
   ]
  },
  {
   "cell_type": "code",
   "execution_count": 4,
   "metadata": {},
   "outputs": [
    {
     "data": {
      "text/plain": [
       "(-8, 8)"
      ]
     },
     "execution_count": 4,
     "metadata": {},
     "output_type": "execute_result"
    }
   ],
   "source": [
    "h = list()\n",
    "\n",
    "for i in [3, 8, 2, 5, 6]:\n",
    "    heapq.heappush(h, -i) # 这里使用负号取反，来让数字大小顺序逆序\n",
    "top = heapq.heappop(h)\n",
    "(top, -top) # 取出的元素也取反，变回原样"
   ]
  },
  {
   "cell_type": "code",
   "execution_count": 8,
   "metadata": {},
   "outputs": [
    {
     "data": {
      "text/plain": [
       "8"
      ]
     },
     "execution_count": 8,
     "metadata": {},
     "output_type": "execute_result"
    }
   ],
   "source": [
    "# 将最大堆封装成函数\n",
    "\n",
    "def maxheap_heappush(h, num):\n",
    "    return heapq.heappush(h, -num)\n",
    "\n",
    "def maxheap_heappop(h):\n",
    "    return -heapq.heappop(h)\n",
    "\n",
    "# 测试最大堆函数\n",
    "h = list()\n",
    "\n",
    "for i in [3, 8, 2, 5, 6]:\n",
    "    maxheap_heappush(h, i) # 这里使用负号取反，来让数字大小顺序逆序\n",
    "maxheap_heappop(h) # 取出栈顶是最大元素"
   ]
  },
  {
   "attachments": {},
   "cell_type": "markdown",
   "metadata": {},
   "source": [
    "### 实现堆排序\n"
   ]
  },
  {
   "cell_type": "code",
   "execution_count": 39,
   "metadata": {},
   "outputs": [
    {
     "data": {
      "text/plain": [
       "[3, 5, 6, 8]"
      ]
     },
     "execution_count": 39,
     "metadata": {},
     "output_type": "execute_result"
    }
   ],
   "source": [
    "def heapsort(l: list):\n",
    "    ret = list()\n",
    "    for item in l:\n",
    "        heapq.heappush(ret, item)\n",
    "    return list(ret)\n",
    "\n",
    "heapsort(h)"
   ]
  },
  {
   "attachments": {},
   "cell_type": "markdown",
   "metadata": {},
   "source": [
    "### 实现优先队列\n"
   ]
  },
  {
   "cell_type": "markdown",
   "metadata": {},
   "source": [
    "### 计算数据流的中位数"
   ]
  },
  {
   "cell_type": "code",
   "execution_count": 54,
   "metadata": {},
   "outputs": [
    {
     "data": {
      "text/plain": [
       "1.0"
      ]
     },
     "execution_count": 54,
     "metadata": {},
     "output_type": "execute_result"
    }
   ],
   "source": [
    "from random import randint\n",
    "\n",
    "\n",
    "\n",
    "def classic_medianfinder(l: list) -> float: # 使用传统方法计算中位数，作为测试基准\n",
    "    l.sort()\n",
    "\n",
    "    n = len(l)\n",
    "    if n % 2 != 0:\n",
    "        return l[n//2] / 1.0\n",
    "    else:\n",
    "        return (l[n//2-1] + l[n//2]) / 2.0\n",
    "\n",
    "def test_medianfinder(medianfinder, test_count=1000): # 对比测试\n",
    "    dataset = [randint(0, test_count) for _ in range(test_count)]\n",
    "\n",
    "    true_count = 0\n",
    "    for i in range(test_count):\n",
    "        data = dataset[:i+1]\n",
    "        correct = classic_medianfinder(data)\n",
    "        answer = medianfinder(data)\n",
    "        if correct == answer:\n",
    "            true_count += 1\n",
    "\n",
    "    return (true_count / test_count)\n",
    "\n",
    "# 数据流的中位数算法类\n",
    "class MedianFinder: \n",
    "\n",
    "    def __init__(self):\n",
    "        self.queMin = list()\n",
    "        self.queMax = list()\n",
    "\n",
    "    def addNum(self, num: int) -> None:\n",
    "        queMin_ = self.queMin\n",
    "        queMax_ = self.queMax\n",
    "\n",
    "        if not queMin_ or num <= -queMin_[0]:\n",
    "            heapq.heappush(queMin_, -num)\n",
    "            if len(queMax_) + 1 < len(queMin_):\n",
    "                heapq.heappush(queMax_, -heapq.heappop(queMin_))\n",
    "        else:\n",
    "            heapq.heappush(queMax_, num)\n",
    "            if len(queMax_) > len(queMin_):\n",
    "                heapq.heappush(queMin_, -heapq.heappop(queMax_))\n",
    "        \n",
    "    def findMedian(self) -> float:\n",
    "        queMin_ = self.queMin\n",
    "        queMax_ = self.queMax\n",
    "\n",
    "        if len(queMin_) > len(queMax_):\n",
    "            return -queMin_[0]\n",
    "        return (-queMin_[0] + queMax_[0]) / 2\n",
    "\n",
    "# 将算法类包装成函数，方便测试函数调用\n",
    "def target_medianfinder(l: list):\n",
    "    mf = MedianFinder()\n",
    "    for item in l:\n",
    "        mf.addNum(item)\n",
    "    return mf.findMedian()\n",
    "\n",
    "# 进行测试\n",
    "test_medianfinder(target_medianfinder)"
   ]
  }
 ],
 "metadata": {
  "kernelspec": {
   "display_name": "Python 3",
   "language": "python",
   "name": "python3"
  },
  "language_info": {
   "codemirror_mode": {
    "name": "ipython",
    "version": 3
   },
   "file_extension": ".py",
   "mimetype": "text/x-python",
   "name": "python",
   "nbconvert_exporter": "python",
   "pygments_lexer": "ipython3",
   "version": "3.7.9"
  },
  "orig_nbformat": 4,
  "vscode": {
   "interpreter": {
    "hash": "b2d2ceb361839cd66c9db6333a9ae8b368dd1d6095c0f1bc06eb5a56b35fb1be"
   }
  }
 },
 "nbformat": 4,
 "nbformat_minor": 2
}
