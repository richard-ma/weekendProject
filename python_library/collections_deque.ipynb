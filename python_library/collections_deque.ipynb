{
 "cells": [
  {
   "attachments": {},
   "cell_type": "markdown",
   "metadata": {},
   "source": [
    "# 双向队列 deque\n",
    "\n",
    "其实是双向链表\n",
    "\n",
    "collections.deque"
   ]
  },
  {
   "cell_type": "code",
   "execution_count": 39,
   "metadata": {},
   "outputs": [],
   "source": [
    "from collections import deque"
   ]
  },
  {
   "cell_type": "code",
   "execution_count": 40,
   "metadata": {},
   "outputs": [
    {
     "name": "stdout",
     "output_type": "stream",
     "text": [
      "None\n",
      "3\n"
     ]
    }
   ],
   "source": [
    "# deque\n",
    "\n",
    "que = deque()\n",
    "\n",
    "print(que.maxlen) # 默认没有最大长度限制，是一个链表结构\n",
    "\n",
    "# 设定一个最大长度\n",
    "print(deque(maxlen=3).maxlen) # 最大长度为3，不可以超过这个长度"
   ]
  },
  {
   "cell_type": "code",
   "execution_count": 41,
   "metadata": {},
   "outputs": [
    {
     "name": "stdout",
     "output_type": "stream",
     "text": [
      "left right\n",
      "right\n",
      "left\n",
      "0 1 2 3\n",
      "3 2 1 0 1 2 3\n"
     ]
    }
   ],
   "source": [
    "# 有左右的操作\n",
    "\n",
    "# 添加\n",
    "que.append('right')\n",
    "que.appendleft('left')\n",
    "print(' '.join([str(item) for item in que])) # left right\n",
    "\n",
    "# 弹出\n",
    "print(que.pop())\n",
    "print(que.popleft())\n",
    "\n",
    "# 扩展（合并）\n",
    "l = [1, 2, 3]\n",
    "\n",
    "que.append(0)\n",
    "que.extend(l)\n",
    "print(' '.join([str(item) for item in que])) # \n",
    "que.extendleft(l) # 添加顺序是逆序 [3, 2, 1]\n",
    "print(' '.join([str(item) for item in que])) #  3, 2, 1, 0, 1, 2, 3"
   ]
  },
  {
   "cell_type": "code",
   "execution_count": 42,
   "metadata": {},
   "outputs": [
    {
     "name": "stdout",
     "output_type": "stream",
     "text": [
      "3 3 2 1 0 1 2\n",
      "1 0 1 2 3 3 2\n"
     ]
    }
   ],
   "source": [
    "# 滚动 将其视为环形数组\n",
    "que.rotate(1) # 向右侧滚动\n",
    "print(' '.join([str(item) for item in que])) # \n",
    "que.rotate(-3) # 向左侧滚动\n",
    "print(' '.join([str(item) for item in que])) # "
   ]
  },
  {
   "cell_type": "code",
   "execution_count": 43,
   "metadata": {},
   "outputs": [
    {
     "name": "stdout",
     "output_type": "stream",
     "text": [
      "2 3 3 2 1 0 1\n"
     ]
    }
   ],
   "source": [
    "# 逆序\n",
    "que.reverse()\n",
    "print(' '.join([str(item) for item in que])) # \n",
    "\n",
    "# TODO 这个算法可以看下源码，逆序链表的实现"
   ]
  }
 ],
 "metadata": {
  "kernelspec": {
   "display_name": "Python 3",
   "language": "python",
   "name": "python3"
  },
  "language_info": {
   "codemirror_mode": {
    "name": "ipython",
    "version": 3
   },
   "file_extension": ".py",
   "mimetype": "text/x-python",
   "name": "python",
   "nbconvert_exporter": "python",
   "pygments_lexer": "ipython3",
   "version": "3.7.9"
  },
  "orig_nbformat": 4,
  "vscode": {
   "interpreter": {
    "hash": "b2d2ceb361839cd66c9db6333a9ae8b368dd1d6095c0f1bc06eb5a56b35fb1be"
   }
  }
 },
 "nbformat": 4,
 "nbformat_minor": 2
}
