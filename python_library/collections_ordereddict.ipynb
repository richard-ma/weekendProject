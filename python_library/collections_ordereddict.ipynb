{
 "cells": [
  {
   "attachments": {},
   "cell_type": "markdown",
   "metadata": {},
   "source": [
    "# 有序字典\n",
    "\n",
    "collections.OrderedDict"
   ]
  },
  {
   "cell_type": "code",
   "execution_count": 40,
   "metadata": {},
   "outputs": [],
   "source": [
    "from collections import OrderedDict"
   ]
  },
  {
   "attachments": {},
   "cell_type": "markdown",
   "metadata": {},
   "source": [
    "## 普通字典\n",
    "\n",
    "1. 顺序不作为判定是否相等的依据"
   ]
  },
  {
   "cell_type": "code",
   "execution_count": 41,
   "metadata": {},
   "outputs": [
    {
     "name": "stdout",
     "output_type": "stream",
     "text": [
      "d1:\n",
      "0 a\n",
      "1 b\n",
      "2 c\n",
      "3 d\n",
      "4 e\n",
      "d2:\n",
      "4 e\n",
      "3 d\n",
      "2 c\n",
      "1 b\n",
      "0 a\n",
      "d1 == d2: True\n"
     ]
    }
   ],
   "source": [
    "# 普通字典\n",
    "\n",
    "d1 = dict()\n",
    "d2 = dict()\n",
    "\n",
    "for i in range(5):\n",
    "    d1[i] = chr(ord('a') + i)\n",
    "\n",
    "for i in range(4, -1, -1):\n",
    "    d2[i] = chr(ord('a') + i)\n",
    "\n",
    "print(\"d1:\")\n",
    "for k, v in d1.items():\n",
    "    print(k, v)\n",
    "print(\"d2:\")\n",
    "for k, v in d2.items():\n",
    "    print(k, v)\n",
    "\n",
    "print(\"d1 == d2:\", d1 == d2)"
   ]
  },
  {
   "attachments": {},
   "cell_type": "markdown",
   "metadata": {},
   "source": [
    "## 有序字典\n",
    "\n",
    "1. 有序字典的元素顺序不同，视为不相等"
   ]
  },
  {
   "cell_type": "code",
   "execution_count": 42,
   "metadata": {},
   "outputs": [
    {
     "name": "stdout",
     "output_type": "stream",
     "text": [
      "d1:\n",
      "0 a\n",
      "1 b\n",
      "2 c\n",
      "3 d\n",
      "4 e\n",
      "d2:\n",
      "4 e\n",
      "3 d\n",
      "2 c\n",
      "1 b\n",
      "0 a\n",
      "d1 == d2: False\n"
     ]
    }
   ],
   "source": [
    "# 有序字典\n",
    "\n",
    "d1 = OrderedDict()\n",
    "d2 = OrderedDict()\n",
    "\n",
    "for i in range(5):\n",
    "    d1[i] = chr(ord('a') + i)\n",
    "\n",
    "for i in range(4, -1, -1):\n",
    "    d2[i] = chr(ord('a') + i)\n",
    "\n",
    "print(\"d1:\")\n",
    "for k, v in d1.items():\n",
    "    print(k, v)\n",
    "print(\"d2:\")\n",
    "for k, v in d2.items():\n",
    "    print(k, v)\n",
    "\n",
    "print(\"d1 == d2:\", d1 == d2)"
   ]
  },
  {
   "attachments": {},
   "cell_type": "markdown",
   "metadata": {},
   "source": [
    "## 有序字典的操作\n",
    "\n",
    "1. move_to_end 用于对元素进行顺序调整\n",
    "1. popitem 可以从队首或队尾弹出元素"
   ]
  },
  {
   "cell_type": "code",
   "execution_count": 43,
   "metadata": {},
   "outputs": [
    {
     "name": "stdout",
     "output_type": "stream",
     "text": [
      "Origin:\t\t 0 1 2 3 4\n",
      "0 Move to end:\t 1 2 3 4 0\n",
      "0 Move to start: 0 1 2 3 4\n"
     ]
    }
   ],
   "source": [
    "# 调整元素顺序\n",
    "\n",
    "print(\"Origin:\\t\\t\", ' '.join([str(item) for item in d1.keys()]))\n",
    "\n",
    "d1.move_to_end(0) # 将key为0的移动到字典尾\n",
    "print(\"0 Move to end:\\t\", ' '.join([str(item) for item in d1.keys()]))\n",
    "\n",
    "d1.move_to_end(0, last=False) # 将key为0的移动到字典头\n",
    "print(\"0 Move to start:\", ' '.join([str(item) for item in d1.keys()]))"
   ]
  },
  {
   "cell_type": "code",
   "execution_count": 49,
   "metadata": {},
   "outputs": [
    {
     "name": "stdout",
     "output_type": "stream",
     "text": [
      "Pop index 0: a\n",
      "Dict:  1 2 3 4\n",
      "POP last:  4 e\n",
      "POP first:  1 b\n"
     ]
    }
   ],
   "source": [
    "# 弹出元素\n",
    "d1 = OrderedDict()\n",
    "\n",
    "for i in range(5):\n",
    "    d1[i] = chr(ord('a') + i)\n",
    "\n",
    "print(\"Pop index 0:\", d1.pop(0))\n",
    "print(\"Dict: \", ' '.join([str(item) for item in d1.keys()]))\n",
    "k, v = d1.popitem() # 弹出最后一个元素\n",
    "print(\"POP last: \", k, v)\n",
    "k, v = d1.popitem(last=False) # 弹出第一个元素\n",
    "print(\"POP first: \", k, v)"
   ]
  }
 ],
 "metadata": {
  "kernelspec": {
   "display_name": "Python 3",
   "language": "python",
   "name": "python3"
  },
  "language_info": {
   "codemirror_mode": {
    "name": "ipython",
    "version": 3
   },
   "file_extension": ".py",
   "mimetype": "text/x-python",
   "name": "python",
   "nbconvert_exporter": "python",
   "pygments_lexer": "ipython3",
   "version": "3.7.9"
  },
  "orig_nbformat": 4,
  "vscode": {
   "interpreter": {
    "hash": "b2d2ceb361839cd66c9db6333a9ae8b368dd1d6095c0f1bc06eb5a56b35fb1be"
   }
  }
 },
 "nbformat": 4,
 "nbformat_minor": 2
}
