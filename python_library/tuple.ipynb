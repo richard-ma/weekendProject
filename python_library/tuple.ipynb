{
 "cells": [
  {
   "cell_type": "markdown",
   "metadata": {},
   "source": [
    "# Tuple Compare\n",
    "\n"
   ]
  },
  {
   "cell_type": "code",
   "execution_count": 2,
   "metadata": {},
   "outputs": [
    {
     "name": "stdout",
     "output_type": "stream",
     "text": [
      "A is greater than B:  False\n",
      "A is less than B:  True\n",
      "A is not equal to B:  True\n"
     ]
    }
   ],
   "source": [
    "tuple_a = (2, 4, 6, 8)\n",
    "tuple_b = (3, 4, 7, 9)\n",
    "\n",
    "print(\"A is greater than B: \", tuple_a > tuple_b)\n",
    "print(\"A is less than B: \", tuple_a < tuple_b)\n",
    "print(\"A is not equal to B: \", tuple_a != tuple_b)"
   ]
  },
  {
   "cell_type": "markdown",
   "metadata": {},
   "source": [
    "## tuple比较大小\n",
    "\n",
    "* 比较时只比较第一个元素，得出结论后将不比较后续元素"
   ]
  },
  {
   "cell_type": "code",
   "execution_count": null,
   "metadata": {},
   "outputs": [],
   "source": [
    "tuple_a = (\"a\", \"b\", \"c\")\n",
    "equal_to_tuple_a = (\"a\", \"b\", \"c\")\n",
    "not_equal_to_tuple_a = (\"a\", \"c\", \"c\")\n",
    "\n",
    "print(\"Equal to A:\", tuple_a == equal_to_tuple_a)\n",
    "print(\"Not equal to A:\", tuple_a == not_equal_to_tuple_a)"
   ]
  },
  {
   "cell_type": "markdown",
   "metadata": {},
   "source": [
    "## tuple判断是否相等\n",
    "\n",
    "* 当所有元素都相等时返回Ture\n",
    "* 当有元素不相等时返回False"
   ]
  },
  {
   "cell_type": "code",
   "execution_count": 4,
   "metadata": {},
   "outputs": [
    {
     "name": "stdout",
     "output_type": "stream",
     "text": [
      "(2, 3) is in tuple list.\n",
      "(5, 3) is in tuple list.\n",
      "(2, -3) is in tuple list.\n",
      "(1, 1) is in tuple list.\n",
      "(3, 9) is in tuple list.\n",
      "(2, 2) is not in tuple list.\n",
      "(3, 3) is not in tuple list.\n"
     ]
    }
   ],
   "source": [
    "tuple_list = [(2, 3), (5, 3), (2, -3), (1, 1), (3, 9)]\n",
    "\n",
    "for item in tuple_list:\n",
    "    if item in tuple_list:\n",
    "        print(item, \"is in tuple list.\")\n",
    "    else:\n",
    "        print(item, \"is not in tuple list.\")\n",
    "other_tuples = [(2, 2), (3, 3)]\n",
    "\n",
    "for item in other_tuples:\n",
    "    if item in tuple_list:\n",
    "        print(item, \"is in tuple list.\")\n",
    "    else:\n",
    "        print(item, \"is not in tuple list.\")\n"
   ]
  },
  {
   "cell_type": "markdown",
   "metadata": {},
   "source": [
    "## tuple 里面的in操作 \n",
    "\n",
    "* 和相等的判断一样，完全相同返回True，否则False"
   ]
  }
 ],
 "metadata": {
  "kernelspec": {
   "display_name": "Python 3",
   "language": "python",
   "name": "python3"
  },
  "language_info": {
   "codemirror_mode": {
    "name": "ipython",
    "version": 3
   },
   "file_extension": ".py",
   "mimetype": "text/x-python",
   "name": "python",
   "nbconvert_exporter": "python",
   "pygments_lexer": "ipython3",
   "version": "3.10.12"
  }
 },
 "nbformat": 4,
 "nbformat_minor": 2
}
