{
 "cells": [
  {
   "attachments": {},
   "cell_type": "markdown",
   "metadata": {},
   "source": [
    "# 三维向量"
   ]
  },
  {
   "attachments": {},
   "cell_type": "markdown",
   "metadata": {},
   "source": [
    "## 向量加法"
   ]
  },
  {
   "cell_type": "code",
   "execution_count": 18,
   "metadata": {},
   "outputs": [
    {
     "data": {
      "text/plain": [
       "(5, 7, 13)"
      ]
     },
     "execution_count": 18,
     "metadata": {},
     "output_type": "execute_result"
    }
   ],
   "source": [
    "def add(*vectors):\n",
    "    return tuple(map(sum, zip(*vectors)))\n",
    "\n",
    "add((3, 3, 5), (2, 4, 8))"
   ]
  },
  {
   "attachments": {},
   "cell_type": "markdown",
   "metadata": {},
   "source": [
    "### 练习3.5\n",
    "求24个向量列表的和"
   ]
  },
  {
   "cell_type": "code",
   "execution_count": 19,
   "metadata": {},
   "outputs": [
    {
     "name": "stdout",
     "output_type": "stream",
     "text": [
      "(-4.440892098500626e-16, -7.771561172376096e-16, 7.9999999999999964)\n"
     ]
    }
   ],
   "source": [
    "from math import *\n",
    "\n",
    "vs = [(sin(pi*t/6), cos(pi*t/6), 1.0/3) for t in range(24)] # 生成24个向量\n",
    "\n",
    "ans = (0, 0, 0)\n",
    "for v in vs:\n",
    "    ans = add(ans, v)\n",
    "    \n",
    "print(ans)"
   ]
  },
  {
   "attachments": {},
   "cell_type": "markdown",
   "metadata": {},
   "source": [
    "## 标量乘法"
   ]
  },
  {
   "cell_type": "code",
   "execution_count": 20,
   "metadata": {},
   "outputs": [
    {
     "data": {
      "text/plain": [
       "(10, 16, 4)"
      ]
     },
     "execution_count": 20,
     "metadata": {},
     "output_type": "execute_result"
    }
   ],
   "source": [
    "def scale(scalar, vector):\n",
    "    return tuple(coord * scalar for coord in vector)\n",
    "\n",
    "scale(2, (5, 8, 2))"
   ]
  },
  {
   "attachments": {},
   "cell_type": "markdown",
   "metadata": {},
   "source": [
    "## 向量长度"
   ]
  },
  {
   "cell_type": "code",
   "execution_count": 21,
   "metadata": {},
   "outputs": [
    {
     "data": {
      "text/plain": [
       "1.7320508075688772"
      ]
     },
     "execution_count": 21,
     "metadata": {},
     "output_type": "execute_result"
    }
   ],
   "source": [
    "from math import *\n",
    "\n",
    "def length(vector):\n",
    "    return sqrt(sum(coord ** 2 for coord in vector))\n",
    "\n",
    "length((1, 1, 1))"
   ]
  },
  {
   "attachments": {},
   "cell_type": "markdown",
   "metadata": {},
   "source": [
    "## 向量减法"
   ]
  },
  {
   "cell_type": "code",
   "execution_count": 22,
   "metadata": {},
   "outputs": [
    {
     "data": {
      "text/plain": [
       "(1, -2, -1)"
      ]
     },
     "execution_count": 22,
     "metadata": {},
     "output_type": "execute_result"
    }
   ],
   "source": [
    "def subtract(v1, v2):\n",
    "    return tuple((v1[0]-v2[0], v1[1]-v2[1], v1[2]-v2[2]))\n",
    "\n",
    "subtract((3, 3, 7), (2, 5, 8))"
   ]
  },
  {
   "attachments": {},
   "cell_type": "markdown",
   "metadata": {},
   "source": [
    "## 计算距离"
   ]
  },
  {
   "cell_type": "code",
   "execution_count": 23,
   "metadata": {},
   "outputs": [
    {
     "data": {
      "text/plain": [
       "1.7320508075688772"
      ]
     },
     "execution_count": 23,
     "metadata": {},
     "output_type": "execute_result"
    }
   ],
   "source": [
    "def distance(v1, v2):\n",
    "    return length(subtract(v1, v2))\n",
    "\n",
    "distance((2, 2, 3), (1, 1, 2))"
   ]
  },
  {
   "attachments": {},
   "cell_type": "markdown",
   "metadata": {},
   "source": [
    "## 向量相乘"
   ]
  },
  {
   "attachments": {},
   "cell_type": "markdown",
   "metadata": {},
   "source": [
    "### 点积\n",
    "* u · v\n",
    "* 取两个向量相乘，返回一个数字\n",
    "    * 两向量垂直，点积为0\n",
    "    * 两向量同向，点积为正，夹角为锐角\n",
    "    * 两向量反向，点积为负，夹角为钝角\n",
    "    * 向量越长，点积绝对值越大，向量越短，点积绝对值越小\n",
    "* 点积计算u · v = ux * vx + uy * vy + uz * vz\n"
   ]
  },
  {
   "cell_type": "code",
   "execution_count": 24,
   "metadata": {},
   "outputs": [
    {
     "data": {
      "text/plain": [
       "0"
      ]
     },
     "execution_count": 24,
     "metadata": {},
     "output_type": "execute_result"
    }
   ],
   "source": [
    "def dot(u, v):\n",
    "    return sum(coord1 * coord2 for coord1, coord2 in zip(u, v))\n",
    "\n",
    "dot((1, 2, -1), (3, 0, 3))"
   ]
  },
  {
   "attachments": {},
   "cell_type": "markdown",
   "metadata": {},
   "source": [
    "* 点积可以用来计算两个向量的夹角 u · v = |u| · |v| · cos(θ"
   ]
  },
  {
   "cell_type": "code",
   "execution_count": 25,
   "metadata": {},
   "outputs": [
    {
     "data": {
      "text/plain": [
       "1.5707963267948966"
      ]
     },
     "execution_count": 25,
     "metadata": {},
     "output_type": "execute_result"
    }
   ],
   "source": [
    "from math import *\n",
    "\n",
    "def angle_between(v1, v2):\n",
    "    return acos(\n",
    "        dot(v1, v2) / (length(v1) * length(v2))\n",
    "    )\n",
    "\n",
    "angle_between((1, 2, -1), (3, 0, 3)) # pi / 2"
   ]
  },
  {
   "attachments": {},
   "cell_type": "markdown",
   "metadata": {},
   "source": [
    "* 对u或v做缩放，也会使点积进行相同的缩放"
   ]
  },
  {
   "cell_type": "code",
   "execution_count": 31,
   "metadata": {},
   "outputs": [],
   "source": [
    "x = (3, 2, 4)\n",
    "y = (8, 8, 7)\n",
    "\n",
    "scalar = 5\n",
    "assert dot(scale(scalar, x), y) == scalar * dot(x, y)\n",
    "assert dot(x, scale(scalar, y)) == scalar * dot(x, y)\n",
    "assert dot(scale(scalar, x), scale(scalar, y)) == scalar * scalar * dot(x, y)"
   ]
  },
  {
   "attachments": {},
   "cell_type": "markdown",
   "metadata": {},
   "source": [
    "### 向量积\n",
    "* u x v\n",
    "* 取两个向量相乘，返回一个向量\n",
    "    * 向量方向按照右手法则垂直于两个输入向量形成的平面\n",
    "    * 向量长度表示了两个输入向量形成的平行四边形面积\n",
    "        * 输入向量共线，向量积长度为0\n",
    "        * 输入向量平行，向量积为（0， 0， 0）\n",
    "        * 输入向量垂直，向量积长度最大\n",
    "* 向量积计算u x v = (uy*vz - uz*vy, uz*vx - ux*vz, ux*vy-uy*vx)"
   ]
  },
  {
   "cell_type": "code",
   "execution_count": 38,
   "metadata": {},
   "outputs": [
    {
     "name": "stdout",
     "output_type": "stream",
     "text": [
      "(0, 0, 1)\n",
      "(1, 0, 0)\n",
      "(0, -1, 0)\n",
      "(0, 0, 0)\n"
     ]
    }
   ],
   "source": [
    "def cross(u, v):\n",
    "    ux, uy, uz = u\n",
    "    vx, vy, vz = v\n",
    "    return (uy*vz-uz*vy, uz*vx-ux*vz, ux*vy-uy*vx)\n",
    "\n",
    "print(cross((1, 0, 0), (0, 1, 0)))\n",
    "print(cross((0, 1, 0), (0, 0, 1)))\n",
    "print(cross((1, 0, 0), (0, 0, 1)))\n",
    "print(cross((1, 2, 5), (2, 4, 10))) # 平行向量"
   ]
  },
  {
   "attachments": {},
   "cell_type": "markdown",
   "metadata": {},
   "source": [
    "* 向量积长度 |u x v| = |u| · |v| · sin(θ)\n",
    "    * 根据向量积长度表示输入向量拉成的平行四边形面积得来\n",
    "    * 以此可以计算两个向量间的夹角θ"
   ]
  }
 ],
 "metadata": {
  "kernelspec": {
   "display_name": "Python 3",
   "language": "python",
   "name": "python3"
  },
  "language_info": {
   "codemirror_mode": {
    "name": "ipython",
    "version": 3
   },
   "file_extension": ".py",
   "mimetype": "text/x-python",
   "name": "python",
   "nbconvert_exporter": "python",
   "pygments_lexer": "ipython3",
   "version": "3.7.9"
  },
  "orig_nbformat": 4,
  "vscode": {
   "interpreter": {
    "hash": "b2d2ceb361839cd66c9db6333a9ae8b368dd1d6095c0f1bc06eb5a56b35fb1be"
   }
  }
 },
 "nbformat": 4,
 "nbformat_minor": 2
}
