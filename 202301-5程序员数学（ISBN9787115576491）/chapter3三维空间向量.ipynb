{
 "cells": [
  {
   "attachments": {},
   "cell_type": "markdown",
   "metadata": {},
   "source": [
    "# 三维向量"
   ]
  },
  {
   "attachments": {},
   "cell_type": "markdown",
   "metadata": {},
   "source": [
    "## 向量加法"
   ]
  },
  {
   "cell_type": "code",
   "execution_count": 29,
   "metadata": {},
   "outputs": [
    {
     "data": {
      "text/plain": [
       "(5, 7, 13)"
      ]
     },
     "execution_count": 29,
     "metadata": {},
     "output_type": "execute_result"
    }
   ],
   "source": [
    "def add(*vectors):\n",
    "    return tuple(map(sum, zip(*vectors)))\n",
    "\n",
    "add((3, 3, 5), (2, 4, 8))"
   ]
  },
  {
   "attachments": {},
   "cell_type": "markdown",
   "metadata": {},
   "source": [
    "### 练习3.5\n",
    "求24个向量列表的和"
   ]
  },
  {
   "cell_type": "code",
   "execution_count": 30,
   "metadata": {},
   "outputs": [
    {
     "name": "stdout",
     "output_type": "stream",
     "text": [
      "(-4.440892098500626e-16, -7.771561172376096e-16, 7.9999999999999964)\n"
     ]
    }
   ],
   "source": [
    "from math import *\n",
    "\n",
    "vs = [(sin(pi*t/6), cos(pi*t/6), 1.0/3) for t in range(24)] # 生成24个向量\n",
    "\n",
    "ans = (0, 0, 0)\n",
    "for v in vs:\n",
    "    ans = add(ans, v)\n",
    "    \n",
    "print(ans)"
   ]
  },
  {
   "attachments": {},
   "cell_type": "markdown",
   "metadata": {},
   "source": [
    "## 标量乘法"
   ]
  },
  {
   "cell_type": "code",
   "execution_count": 31,
   "metadata": {},
   "outputs": [
    {
     "data": {
      "text/plain": [
       "(10, 16, 4)"
      ]
     },
     "execution_count": 31,
     "metadata": {},
     "output_type": "execute_result"
    }
   ],
   "source": [
    "def scale(scalar, vector):\n",
    "    return tuple(coord * scalar for coord in vector)\n",
    "\n",
    "scale(2, (5, 8, 2))"
   ]
  },
  {
   "attachments": {},
   "cell_type": "markdown",
   "metadata": {},
   "source": [
    "## 向量长度"
   ]
  },
  {
   "cell_type": "code",
   "execution_count": 32,
   "metadata": {},
   "outputs": [
    {
     "data": {
      "text/plain": [
       "1.7320508075688772"
      ]
     },
     "execution_count": 32,
     "metadata": {},
     "output_type": "execute_result"
    }
   ],
   "source": [
    "from math import *\n",
    "\n",
    "def length(vector):\n",
    "    return sqrt(sum(coord ** 2 for coord in vector))\n",
    "\n",
    "length((1, 1, 1))"
   ]
  },
  {
   "attachments": {},
   "cell_type": "markdown",
   "metadata": {},
   "source": [
    "## 向量减法"
   ]
  },
  {
   "cell_type": "code",
   "execution_count": 33,
   "metadata": {},
   "outputs": [
    {
     "data": {
      "text/plain": [
       "(1, -2, -1)"
      ]
     },
     "execution_count": 33,
     "metadata": {},
     "output_type": "execute_result"
    }
   ],
   "source": [
    "def subtract(v1, v2):\n",
    "    return tuple((v1[0]-v2[0], v1[1]-v2[1], v1[2]-v2[2]))\n",
    "\n",
    "subtract((3, 3, 7), (2, 5, 8))"
   ]
  },
  {
   "attachments": {},
   "cell_type": "markdown",
   "metadata": {},
   "source": [
    "## 计算距离"
   ]
  },
  {
   "cell_type": "code",
   "execution_count": 34,
   "metadata": {},
   "outputs": [
    {
     "data": {
      "text/plain": [
       "1.7320508075688772"
      ]
     },
     "execution_count": 34,
     "metadata": {},
     "output_type": "execute_result"
    }
   ],
   "source": [
    "def distance(v1, v2):\n",
    "    return length(subtract(v1, v2))\n",
    "\n",
    "distance((2, 2, 3), (1, 1, 2))"
   ]
  },
  {
   "attachments": {},
   "cell_type": "markdown",
   "metadata": {},
   "source": [
    "## 向量相乘"
   ]
  },
  {
   "attachments": {},
   "cell_type": "markdown",
   "metadata": {},
   "source": [
    "### 点积\n",
    "* u · v\n",
    "* 取两个向量相乘，返回一个数字\n",
    "    * 两向量垂直，点积为0\n",
    "    * 两向量同向，点积为正，夹角为锐角\n",
    "    * 两向量反向，点积为负，夹角为钝角\n",
    "    * 向量越长，点积绝对值越大，向量越短，点积绝对值越小\n",
    "* 点积计算u · v = ux * vx + uy * vy + uz * vz\n"
   ]
  },
  {
   "cell_type": "code",
   "execution_count": 35,
   "metadata": {},
   "outputs": [
    {
     "data": {
      "text/plain": [
       "0"
      ]
     },
     "execution_count": 35,
     "metadata": {},
     "output_type": "execute_result"
    }
   ],
   "source": [
    "def dot(u, v):\n",
    "    return sum(coord1 * coord2 for coord1, coord2 in zip(u, v))\n",
    "\n",
    "dot((1, 2, -1), (3, 0, 3))"
   ]
  },
  {
   "attachments": {},
   "cell_type": "markdown",
   "metadata": {},
   "source": [
    "* 点积可以用来计算两个向量的夹角 u · v = |u| · |v| · cos(θ)"
   ]
  },
  {
   "cell_type": "code",
   "execution_count": 36,
   "metadata": {},
   "outputs": [
    {
     "data": {
      "text/plain": [
       "1.5707963267948966"
      ]
     },
     "execution_count": 36,
     "metadata": {},
     "output_type": "execute_result"
    }
   ],
   "source": [
    "from math import *\n",
    "\n",
    "def angle_between(v1, v2):\n",
    "    return acos(\n",
    "        dot(v1, v2) / (length(v1) * length(v2))\n",
    "    )\n",
    "\n",
    "angle_between((1, 2, -1), (3, 0, 3)) # pi / 2"
   ]
  },
  {
   "attachments": {},
   "cell_type": "markdown",
   "metadata": {},
   "source": [
    "* 根据此公式，点积还可以提取坐标在某方向的分量\n",
    "    * 分量即|v| · cos(θ) = (u · v) / |u|"
   ]
  },
  {
   "cell_type": "code",
   "execution_count": 28,
   "metadata": {},
   "outputs": [
    {
     "data": {
      "text/plain": [
       "2.0"
      ]
     },
     "execution_count": 28,
     "metadata": {},
     "output_type": "execute_result"
    }
   ],
   "source": [
    "def component(v, direction):\n",
    "    return (dot(v, direction) / length(direction))\n",
    "\n",
    "v = (2, 3, 7)\n",
    "direction = (1, 0, 0) # 在x轴上的投影分量\n",
    "component(v, direction)"
   ]
  },
  {
   "attachments": {},
   "cell_type": "markdown",
   "metadata": {},
   "source": [
    "* 对u或v做缩放，也会使点积进行相同的缩放"
   ]
  },
  {
   "cell_type": "code",
   "execution_count": 31,
   "metadata": {},
   "outputs": [],
   "source": [
    "x = (3, 2, 4)\n",
    "y = (8, 8, 7)\n",
    "\n",
    "scalar = 5\n",
    "assert dot(scale(scalar, x), y) == scalar * dot(x, y)\n",
    "assert dot(x, scale(scalar, y)) == scalar * dot(x, y)\n",
    "assert dot(scale(scalar, x), scale(scalar, y)) == scalar * scalar * dot(x, y)"
   ]
  },
  {
   "attachments": {},
   "cell_type": "markdown",
   "metadata": {},
   "source": [
    "### 向量积\n",
    "* u x v\n",
    "* 取两个向量相乘，返回一个向量\n",
    "    * 向量方向按照右手法则垂直于两个输入向量形成的平面\n",
    "    * 向量长度表示了两个输入向量形成的平行四边形面积\n",
    "        * 输入向量共线，向量积长度为0\n",
    "        * 输入向量平行，向量积为（0， 0， 0）\n",
    "        * 输入向量垂直，向量积长度最大\n",
    "* 向量积计算u x v = (uy*vz - uz*vy, uz*vx - ux*vz, ux*vy-uy*vx)"
   ]
  },
  {
   "cell_type": "code",
   "execution_count": 38,
   "metadata": {},
   "outputs": [
    {
     "name": "stdout",
     "output_type": "stream",
     "text": [
      "(0, 0, 1)\n",
      "(1, 0, 0)\n",
      "(0, -1, 0)\n",
      "(0, 0, 0)\n"
     ]
    }
   ],
   "source": [
    "def cross(u, v):\n",
    "    ux, uy, uz = u\n",
    "    vx, vy, vz = v\n",
    "    return (uy*vz-uz*vy, uz*vx-ux*vz, ux*vy-uy*vx)\n",
    "\n",
    "print(cross((1, 0, 0), (0, 1, 0)))\n",
    "print(cross((0, 1, 0), (0, 0, 1)))\n",
    "print(cross((1, 0, 0), (0, 0, 1)))\n",
    "print(cross((1, 2, 5), (2, 4, 10))) # 平行向量"
   ]
  },
  {
   "attachments": {},
   "cell_type": "markdown",
   "metadata": {},
   "source": [
    "* 向量积长度 |u x v| = |u| · |v| · sin(θ)\n",
    "    * 根据向量积长度表示输入向量拉成的平行四边形面积得来\n",
    "    * 以此可以计算两个向量间的夹角θ"
   ]
  },
  {
   "attachments": {},
   "cell_type": "markdown",
   "metadata": {},
   "source": [
    "## 三维在二维上的投影\n",
    "\n",
    "* 用向量表示一个八面体"
   ]
  },
  {
   "cell_type": "code",
   "execution_count": 78,
   "metadata": {},
   "outputs": [],
   "source": [
    "octahedron = [\n",
    "    [(1, 0, 0), (0, 1, 0), (0, 0, 1)],\n",
    "    [(1, 0, 0), (0, 0, -1), (0, 1, 0)],\n",
    "    [(1, 0, 0), (0, 0, 1), (0, -1, 0)],\n",
    "    [(1, 0, 0), (0, -1, 0), (0, 0, -1)],\n",
    "    [(-1, 0, 0), (0, 1, 0), (0, 0, 1)],\n",
    "    [(-1, 0, 0), (0, 0, -1), (0, 1, 0)],\n",
    "    [(-1, 0, 0), (0, 0, 1), (0, -1, 0)],\n",
    "    [(-1, 0, 0), (0, -1, 0), (0, 0, -1)],\n",
    "]"
   ]
  },
  {
   "attachments": {},
   "cell_type": "markdown",
   "metadata": {},
   "source": [
    "* 获取八面体的顶点"
   ]
  },
  {
   "cell_type": "code",
   "execution_count": 114,
   "metadata": {},
   "outputs": [
    {
     "name": "stdout",
     "output_type": "stream",
     "text": [
      "[(0, 0, -1), (1, 0, 0), (0, -1, 0), (-1, 0, 0), (0, 1, 0), (0, 0, 1)]\n"
     ]
    },
    {
     "data": {
      "text/plain": [
       "[<mpl_toolkits.mplot3d.art3d.Line3D at 0x19d1dde7d88>]"
      ]
     },
     "execution_count": 114,
     "metadata": {},
     "output_type": "execute_result"
    },
    {
     "data": {
      "image/png": "[encoded data removed]",
      "text/plain": [
       "<Figure size 640x480 with 1 Axes>"
      ]
     },
     "metadata": {},
     "output_type": "display_data"
    }
   ],
   "source": [
    "def vertices(faces):\n",
    "    return list(set([vertex for face in faces for vertex in face]))\n",
    "\n",
    "vertices(octahedron)\n",
    "\n",
    "import matplotlib.pyplot as plt\n",
    "\n",
    "ax = plt.axes(projection='3d')\n",
    "\n",
    "vectors = vertices(octahedron)\n",
    "for vector in vectors:\n",
    "    ax.scatter3D(*vector)\n",
    "\n",
    "vectors.sort(key=lambda x: x[2])\n",
    "print(vectors)\n",
    "\n",
    "for i in range(4):\n",
    "    ax.plot3D(*zip(vectors[0], vectors[i+1]))\n",
    "    ax.plot3D(*zip(vectors[i+1], vectors[5]))\n",
    "\n",
    "ax.plot3D(*zip((0, -1, 0), (-1, 0, 0)))\n",
    "ax.plot3D(*zip((-1, 0, 0), (0, 1, 0)))\n",
    "ax.plot3D(*zip((0, 1, 0), (1, 0, 0)))\n",
    "ax.plot3D(*zip((1, 0, 0), (0, -1, 0)))"
   ]
  },
  {
   "attachments": {},
   "cell_type": "markdown",
   "metadata": {},
   "source": [
    "* 确定投影平面的“上”和“右”方向单位向量"
   ]
  },
  {
   "cell_type": "code",
   "execution_count": 39,
   "metadata": {},
   "outputs": [],
   "source": [
    "top = (0, 1, 0) # y轴\n",
    "right = (1, 0, 0) # x轴"
   ]
  },
  {
   "attachments": {},
   "cell_type": "markdown",
   "metadata": {},
   "source": [
    "* 将三维向量压平到平面上"
   ]
  },
  {
   "cell_type": "code",
   "execution_count": 42,
   "metadata": {},
   "outputs": [
    {
     "data": {
      "text/plain": [
       "[[(1.0, 0.0), (0.0, 1.0), (0.0, 0.0)],\n",
       " [(1.0, 0.0), (0.0, 0.0), (0.0, 1.0)],\n",
       " [(1.0, 0.0), (0.0, 0.0), (0.0, -1.0)],\n",
       " [(1.0, 0.0), (0.0, -1.0), (0.0, 0.0)],\n",
       " [(-1.0, 0.0), (0.0, 1.0), (0.0, 0.0)],\n",
       " [(-1.0, 0.0), (0.0, 0.0), (0.0, 1.0)],\n",
       " [(-1.0, 0.0), (0.0, 0.0), (0.0, -1.0)],\n",
       " [(-1.0, 0.0), (0.0, -1.0), (0.0, 0.0)]]"
      ]
     },
     "execution_count": 42,
     "metadata": {},
     "output_type": "execute_result"
    }
   ],
   "source": [
    "def vector_to_2d(v):\n",
    "    return (component(v, right), component(v, top))\n",
    "\n",
    "def face_to_2d(face):\n",
    "    return [vector_to_2d(vertex) for vertex in face]\n",
    "\n",
    "[face_to_2d(face) for face in octahedron]"
   ]
  },
  {
   "cell_type": "code",
   "execution_count": null,
   "metadata": {},
   "outputs": [],
   "source": [
    "# 计算一个向量的单位1向量\n",
    "def unit(v):\n",
    "    return scale(1./length(v), v) # 将向量根据其长度缩放成单位1向量\n",
    "\n",
    "# 计算垂直于face面的向量\n",
    "def normal(face):\n",
    "    return (cross(subtract(face[1], face[0]), subtract(face[2], face[0])))"
   ]
  },
  {
   "attachments": {},
   "cell_type": "markdown",
   "metadata": {},
   "source": [
    "## 变换向量和图形"
   ]
  },
  {
   "cell_type": "code",
   "execution_count": 118,
   "metadata": {},
   "outputs": [
    {
     "name": "stdout",
     "output_type": "stream",
     "text": [
      "(9, 27, 21)\n",
      "(2, 9, 7)\n"
     ]
    }
   ],
   "source": [
    "def scale_by(scalar):\n",
    "    def new_function(v):\n",
    "        return scale(scalar, v)\n",
    "    return new_function\n",
    "\n",
    "v = (3, 9, 7)\n",
    "scale_by_3 = scale_by(3)\n",
    "print(scale_by_3(v))\n",
    "\n",
    "def translate_by(translation):\n",
    "    def new_function(v):\n",
    "        return add(translation, v)\n",
    "    return new_function\n",
    "\n",
    "translation = (-1, 0, 0)\n",
    "translate_left_1 = translate_by(translation) # move left 1\n",
    "print(translate_left_1(v))"
   ]
  },
  {
   "attachments": {},
   "cell_type": "markdown",
   "metadata": {},
   "source": [
    "## 总结\n",
    "* 点积可以计算两个向量的夹角，还可以计算向量在另一平面上的分量\n",
    "* 向量积与输入向量的平面垂直\n",
    "* 任何三维对象的表面，都可以拆分成小三角形\n",
    "* 利用三角形的三个点，计算其差值的向量积，即可知道该面的朝向，从而确认该面是否可以被看到\n",
    "* 也可以利用面的向量积确认该面与光源的夹角，来计算其灰度值，确定明暗"
   ]
  }
 ],
 "metadata": {
  "kernelspec": {
   "display_name": "Python 3",
   "language": "python",
   "name": "python3"
  },
  "language_info": {
   "codemirror_mode": {
    "name": "ipython",
    "version": 3
   },
   "file_extension": ".py",
   "mimetype": "text/x-python",
   "name": "python",
   "nbconvert_exporter": "python",
   "pygments_lexer": "ipython3",
   "version": "3.7.9"
  },
  "orig_nbformat": 4,
  "vscode": {
   "interpreter": {
    "hash": "b2d2ceb361839cd66c9db6333a9ae8b368dd1d6095c0f1bc06eb5a56b35fb1be"
   }
  }
 },
 "nbformat": 4,
 "nbformat_minor": 2
}
