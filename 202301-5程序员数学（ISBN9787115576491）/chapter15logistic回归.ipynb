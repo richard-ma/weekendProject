{
 "cells": [
  {
   "attachments": {},
   "cell_type": "markdown",
   "metadata": {},
   "source": [
    "# logistic回归进行分类"
   ]
  },
  {
   "cell_type": "code",
   "execution_count": 5,
   "metadata": {},
   "outputs": [],
   "source": [
    "def bmw_finder(mileage, price):\n",
    "    if price > 25000:\n",
    "        return 1\n",
    "    else:\n",
    "        return 0"
   ]
  },
  {
   "cell_type": "code",
   "execution_count": 6,
   "metadata": {},
   "outputs": [
    {
     "data": {
      "text/plain": [
       "[(93404.0, 13999.0, 1),\n",
       " (110890.0, 13995.0, 1),\n",
       " (94133.0, 13982.0, 1),\n",
       " (46778.0, 14599.0, 1),\n",
       " (53106.0, 22500.0, 1),\n",
       " (58761.0, 24998.0, 1),\n",
       " (108816.0, 24947.0, 1),\n",
       " (81100.0, 13995.0, 1),\n",
       " (90000.0, 8400.0, 1),\n",
       " (68613.0, 14995.0, 1),\n",
       " (94000.0, 11995.0, 1),\n",
       " (92500.0, 10995.0, 1),\n",
       " (112081.0, 11995.0, 1),\n",
       " (105121.0, 11500.0, 1),\n",
       " (92000.0, 2013.0, 1),\n",
       " (107953.0, 12999.0, 1),\n",
       " (56000.0, 18995.0, 1),\n",
       " (101191.0, 18900.0, 1),\n",
       " (64365.0, 16998.0, 1),\n",
       " (66000.0, 10000.0, 1),\n",
       " (76675.0, 12500.0, 1),\n",
       " (93015.0, 15995.0, 1),\n",
       " (80917.0, 14970.0, 1),\n",
       " (96000.0, 16795.0, 1),\n",
       " (70000.0, 12999.0, 1),\n",
       " (107000.0, 11950.0, 1),\n",
       " (78000.0, 18995.0, 1),\n",
       " (78000.0, 15000.0, 1),\n",
       " (92000.0, 2013.0, 1),\n",
       " (57624.0, 21963.0, 1),\n",
       " (77854.0, 16995.0, 1),\n",
       " (48310.0, 22998.0, 1),\n",
       " (51656.0, 20998.0, 1),\n",
       " (62410.0, 19991.0, 1),\n",
       " (39332.0, 29995.0, 1),\n",
       " (31420.0, 21000.0, 1),\n",
       " (41267.0, 22450.0, 1),\n",
       " (73000.0, 19999.0, 1),\n",
       " (94608.0, 11995.0, 1),\n",
       " (67000.0, 24964.0, 1),\n",
       " (50000.0, 18985.0, 1),\n",
       " (73601.0, 16999.0, 1),\n",
       " (50000.0, 18985.0, 1),\n",
       " (95229.0, 15980.0, 1),\n",
       " (69000.0, 27247.0, 1),\n",
       " (73309.0, 13790.0, 1),\n",
       " (41573.0, 21970.0, 1),\n",
       " (42172.0, 25842.0, 1),\n",
       " (41085.0, 18750.0, 1),\n",
       " (81625.0, 13990.0, 1),\n",
       " (38000.0, 24900.0, 1),\n",
       " (65000.0, 12000.0, 1),\n",
       " (103000.0, 16495.0, 1),\n",
       " (76000.0, 18500.0, 1),\n",
       " (34000.0, 19950.0, 1),\n",
       " (66000.0, 29500.0, 1),\n",
       " (36756.0, 18999.0, 1),\n",
       " (42681.0, 26697.0, 1),\n",
       " (29000.0, 29997.0, 1),\n",
       " (51000.0, 26968.0, 1),\n",
       " (26000.0, 25980.0, 1),\n",
       " (88262.0, 18338.0, 1),\n",
       " (48321.0, 21322.0, 1),\n",
       " (93762.0, 16991.0, 1),\n",
       " (79972.0, 16499.0, 1),\n",
       " (54177.0, 20774.0, 1),\n",
       " (43294.0, 21800.0, 1),\n",
       " (55736.0, 24985.0, 1),\n",
       " (74896.0, 22599.0, 1),\n",
       " (72282.0, 20770.0, 1),\n",
       " (58328.0, 22000.0, 1),\n",
       " (49856.0, 20998.0, 1),\n",
       " (42229.0, 21998.0, 1),\n",
       " (38126.0, 25998.0, 1),\n",
       " (46000.0, 21900.0, 1),\n",
       " (95000.0, 18500.0, 1),\n",
       " (30000.0, 19899.0, 1),\n",
       " (63000.0, 21500.0, 1),\n",
       " (39835.0, 27629.0, 1),\n",
       " (51043.0, 25964.0, 1),\n",
       " (27000.0, 30998.0, 1),\n",
       " (39591.0, 25000.0, 1),\n",
       " (37703.0, 35990.0, 1),\n",
       " (41467.0, 30254.0, 1),\n",
       " (83000.0, 15900.0, 1),\n",
       " (58623.0, 21998.0, 1),\n",
       " (57276.0, 21998.0, 1),\n",
       " (27620.0, 23998.0, 1),\n",
       " (40237.0, 21998.0, 1),\n",
       " (52961.0, 22998.0, 1),\n",
       " (36707.0, 34888.0, 1),\n",
       " (42363.0, 29891.0, 1),\n",
       " (44943.0, 23697.0, 1),\n",
       " (90000.0, 11000.0, 1),\n",
       " (90000.0, 13000.0, 1),\n",
       " (42470.0, 30977.0, 1),\n",
       " (27000.0, 20999.0, 1),\n",
       " (37000.0, 31990.0, 1),\n",
       " (63000.0, 2016.0, 1),\n",
       " (51000.0, 2016.0, 1),\n",
       " (59014.0, 13995.0, 0),\n",
       " (70000.0, 9900.0, 0),\n",
       " (84507.0, 14998.0, 0),\n",
       " (76000.0, 8300.0, 0),\n",
       " (41868.0, 15998.0, 0),\n",
       " (40631.0, 13991.0, 0),\n",
       " (74000.0, 10532.0, 0),\n",
       " (69703.0, 12900.0, 0),\n",
       " (37000.0, 15850.0, 0),\n",
       " (33000.0, 13995.0, 0),\n",
       " (75000.0, 9500.0, 0),\n",
       " (35000.0, 11100.0, 0),\n",
       " (97109.0, 11991.0, 0),\n",
       " (128882.0, 8359.0, 0),\n",
       " (39000.0, 13759.0, 0),\n",
       " (65000.0, 13990.0, 0),\n",
       " (37000.0, 12950.0, 0),\n",
       " (130000.0, 9500.0, 0),\n",
       " (63430.0, 12995.0, 0),\n",
       " (120000.0, 7600.0, 0),\n",
       " (74000.0, 9000.0, 0),\n",
       " (46000.0, 13982.0, 0),\n",
       " (73428.0, 14991.0, 0),\n",
       " (200000.0, 7950.0, 0),\n",
       " (88180.0, 12998.0, 0),\n",
       " (89466.0, 14599.0, 0),\n",
       " (76985.0, 11990.0, 0),\n",
       " (65000.0, 13990.0, 0),\n",
       " (63621.0, 12395.0, 0),\n",
       " (96000.0, 7900.0, 0),\n",
       " (74000.0, 9000.0, 0),\n",
       " (75000.0, 11000.0, 0),\n",
       " (143000.0, 8999.0, 0),\n",
       " (112000.0, 8900.0, 0),\n",
       " (74000.0, 9000.0, 0),\n",
       " (185000.0, 5950.0, 0),\n",
       " (80424.0, 13000.0, 0),\n",
       " (48655.0, 17998.0, 0),\n",
       " (102000.0, 9997.0, 0),\n",
       " (67508.0, 14991.0, 0),\n",
       " (39395.0, 18998.0, 0),\n",
       " (44531.0, 16577.0, 0),\n",
       " (68000.0, 12495.0, 0),\n",
       " (35000.0, 11999.0, 0),\n",
       " (68000.0, 12495.0, 0),\n",
       " (115000.0, 10900.0, 0),\n",
       " (66293.0, 14472.0, 0),\n",
       " (141000.0, 10000.0, 0),\n",
       " (109496.0, 9677.0, 0),\n",
       " (82000.0, 7500.0, 0),\n",
       " (106361.0, 10953.0, 0),\n",
       " (187000.0, 8800.0, 0),\n",
       " (76912.0, 11993.0, 0),\n",
       " (117000.0, 9450.0, 0),\n",
       " (113963.0, 11494.0, 0),\n",
       " (72000.0, 12490.0, 0),\n",
       " (71218.0, 11994.0, 0),\n",
       " (48924.0, 13786.0, 0),\n",
       " (100000.0, 7800.0, 0),\n",
       " (98531.0, 10979.0, 0),\n",
       " (43015.0, 16977.0, 0),\n",
       " (29695.0, 16599.0, 0),\n",
       " (44640.0, 16900.0, 0),\n",
       " (56478.0, 13990.0, 0),\n",
       " (114959.0, 11060.0, 0),\n",
       " (83861.0, 13000.0, 0),\n",
       " (91314.0, 11911.0, 0),\n",
       " (37000.0, 16375.0, 0),\n",
       " (46000.0, 14500.0, 0),\n",
       " (45358.0, 16991.0, 0),\n",
       " (68432.0, 16998.0, 0),\n",
       " (37739.0, 19998.0, 0),\n",
       " (89352.0, 12995.0, 0),\n",
       " (65000.0, 13500.0, 0),\n",
       " (61000.0, 13000.0, 0),\n",
       " (35385.0, 13988.0, 0),\n",
       " (65000.0, 13500.0, 0),\n",
       " (57000.0, 16791.0, 0),\n",
       " (90019.0, 14790.0, 0),\n",
       " (136095.0, 11595.0, 0),\n",
       " (27000.0, 16235.0, 0),\n",
       " (54480.0, 17910.0, 0),\n",
       " (100000.0, 16000.0, 0),\n",
       " (65899.0, 16482.0, 0),\n",
       " (27000.0, 17734.0, 0),\n",
       " (144000.0, 9800.0, 0),\n",
       " (26989.0, 17925.0, 0),\n",
       " (67662.0, 13400.0, 0),\n",
       " (38401.0, 16998.0, 0),\n",
       " (80982.0, 13999.0, 0),\n",
       " (43000.0, 17492.0, 0),\n",
       " (87428.0, 11794.0, 0),\n",
       " (34028.0, 17491.0, 0),\n",
       " (37000.0, 15800.0, 0),\n",
       " (32000.0, 20995.0, 0),\n",
       " (89000.0, 12999.0, 0),\n",
       " (64000.0, 15000.0, 0),\n",
       " (45000.0, 16900.0, 0),\n",
       " (38000.0, 13500.0, 0),\n",
       " (71000.0, 12500.0, 0)]"
      ]
     },
     "execution_count": 6,
     "metadata": {},
     "output_type": "execute_result"
    }
   ],
   "source": [
    "from car_data_fifteen import bmws, priuses\n",
    "\n",
    "all_car_data = list()\n",
    "for bmw in bmws:\n",
    "    all_car_data.append((bmw.mileage, bmw.price, 1))\n",
    "for prius in priuses:\n",
    "    all_car_data.append((prius.mileage, prius.price, 0))\n",
    "\n",
    "all_car_data"
   ]
  },
  {
   "cell_type": "code",
   "execution_count": 7,
   "metadata": {},
   "outputs": [
    {
     "data": {
      "text/plain": [
       "0.59"
      ]
     },
     "execution_count": 7,
     "metadata": {},
     "output_type": "execute_result"
    }
   ],
   "source": [
    "def test_classifier(classifier, data):\n",
    "    trues = 0\n",
    "    falses = 0\n",
    "    for mileage, price, is_bmw in data:\n",
    "        if classifier(mileage, price) == is_bmw:\n",
    "            trues += 1\n",
    "        else:\n",
    "            falses += 1\n",
    "    return trues / (trues + falses)\n",
    "\n",
    "test_classifier(bmw_finder, all_car_data)"
   ]
  },
  {
   "cell_type": "code",
   "execution_count": 9,
   "metadata": {},
   "outputs": [
    {
     "name": "stdout",
     "output_type": "stream",
     "text": [
      "true positives: 18\n",
      "true negatives: 100\n",
      "false positives: 0\n",
      "false negatives: 82\n"
     ]
    },
    {
     "data": {
      "text/plain": [
       "0.59"
      ]
     },
     "execution_count": 9,
     "metadata": {},
     "output_type": "execute_result"
    }
   ],
   "source": [
    "# 更新classifier函数\n",
    "def test_classifier(classifier, data, verbose=False):\n",
    "    true_positives = 0\n",
    "    true_negatives = 0\n",
    "    false_positives = 0\n",
    "    false_negatives = 0\n",
    "\n",
    "    for mileage, price, is_bmw in data:\n",
    "        predicted = classifier(mileage, price)\n",
    "\n",
    "        if predicted and is_bmw: # 预测为宝马，且真的是宝马（正确结果）\n",
    "            true_positives += 1\n",
    "        elif predicted: # 预测为宝马，但实际不是\n",
    "            false_positives += 1\n",
    "        elif is_bmw: # 预测不是宝马，但实际是\n",
    "            false_negatives += 1\n",
    "        else: # 预测不是宝马，实际也不是宝马（正确结果）\n",
    "            true_negatives += 1\n",
    "\n",
    "    if verbose:\n",
    "        print(\"true positives:\", true_positives)\n",
    "        print(\"true negatives:\", true_negatives)\n",
    "        print(\"false positives:\", false_positives)\n",
    "        print(\"false negatives:\", false_negatives)\n",
    "\n",
    "    total = true_positives + true_negatives\n",
    "\n",
    "    return total / len(data)\n",
    "\n",
    "test_classifier(bmw_finder, all_car_data, True)"
   ]
  },
  {
   "cell_type": "code",
   "execution_count": 10,
   "metadata": {},
   "outputs": [
    {
     "name": "stdout",
     "output_type": "stream",
     "text": [
      "true positives: 48\n",
      "true negatives: 99\n",
      "false positives: 1\n",
      "false negatives: 52\n"
     ]
    },
    {
     "data": {
      "text/plain": [
       "0.735"
      ]
     },
     "execution_count": 10,
     "metadata": {},
     "output_type": "execute_result"
    }
   ],
   "source": [
    "def bmw_finder2(mileage, price):\n",
    "    if price > 20000:\n",
    "        return 1\n",
    "    else:\n",
    "        return 0\n",
    "test_classifier(bmw_finder2, all_car_data, True)"
   ]
  },
  {
   "cell_type": "code",
   "execution_count": 11,
   "metadata": {},
   "outputs": [
    {
     "data": {
      "text/plain": [
       "0.805"
      ]
     },
     "execution_count": 11,
     "metadata": {},
     "output_type": "execute_result"
    }
   ],
   "source": [
    "def decision_boundary_classify(mileage, price):\n",
    "    if price > 21000 - 0.07 * mileage:\n",
    "        return 1\n",
    "    else:\n",
    "        return 0\n",
    "\n",
    "test_classifier(decision_boundary_classify, all_car_data)"
   ]
  },
  {
   "cell_type": "code",
   "execution_count": 18,
   "metadata": {},
   "outputs": [
    {
     "data": {
      "text/plain": [
       "17998.0"
      ]
     },
     "execution_count": 18,
     "metadata": {},
     "output_type": "execute_result"
    }
   ],
   "source": [
    "def constant_price_classifier(cutoff_price):\n",
    "    def c(x, p):\n",
    "        if p > cutoff_price:\n",
    "            return 1\n",
    "        else:\n",
    "            return 0\n",
    "    return c\n",
    "\n",
    "def cutoff_accuracy(cutoff_price):\n",
    "    c = constant_price_classifier(cutoff_price)\n",
    "    return test_classifier(c, all_car_data)\n",
    "\n",
    "all_prices = [price for mileage, price, is_bmw in all_car_data]\n",
    "max(all_prices, key=cutoff_accuracy)"
   ]
  },
  {
   "cell_type": "code",
   "execution_count": 26,
   "metadata": {},
   "outputs": [],
   "source": [
    "# 缩放原始汽车数据\n",
    "\n",
    "def make_scale(data):\n",
    "    min_val = min(data)\n",
    "    max_val = max(data)\n",
    "\n",
    "    def scale(x):\n",
    "        return (x-min_val) / (max_val-min_val)\n",
    "\n",
    "    def unscale(y):\n",
    "        return y * (max_val - min_val) + min_val\n",
    "\n",
    "    return scale, unscale\n",
    "\n",
    "price_scale, price_unscale = make_scale([x[1] for x in all_car_data])\n",
    "mileage_scale, mileage_unscale = make_scale([x[0] for x in all_car_data])\n",
    "\n",
    "scaled_data = [(mileage_scale(mileage), price_scale(price), is_bmw) for mileage, price, is_bmw in all_car_data]"
   ]
  },
  {
   "cell_type": "code",
   "execution_count": 28,
   "metadata": {},
   "outputs": [],
   "source": [
    "# sigmoid函数\n",
    "\n",
    "from math import *\n",
    "\n",
    "# 用于拟合的函数，就是模型\n",
    "def sigmoid(x):\n",
    "    return 1 / (1 + exp(-x))\n",
    "\n",
    "\n",
    "def make_logistic(a, b, c):\n",
    "    def l(x, p):\n",
    "        return sigmoid((a * x + b * p + c))\n",
    "    return l\n",
    "\n",
    "def simple_logistic_cost(a, b, c):\n",
    "    l = make_logistic(a, b, c)\n",
    "    errors = [abs(is_bmw - l(x, p)) for x, p, is_bmw in scaled_data]\n",
    "    return sum(errors)\n",
    "\n",
    "def point_cost(l, x, p, is_bmw):\n",
    "    wrong = 1 - is_bmw\n",
    "    return -log(abs(wrong - l(x, p)))\n",
    "\n",
    "def logistic_cost(a, b, c):\n",
    "    l = make_logistic(a, b, c)\n",
    "    errors = [point_cost(l, x, p, is_bmw) for x, p, is_bmw in scaled_data]\n",
    "    return sum(errors)"
   ]
  },
  {
   "cell_type": "code",
   "execution_count": 32,
   "metadata": {},
   "outputs": [
    {
     "name": "stdout",
     "output_type": "stream",
     "text": [
      "(-0.09359759840122889, 4.668775358379191, -1.894019518985721)\n",
      "(3.2401157229672175, 10.553176801101781, -5.1272840205583465)\n",
      "(3.716700347820625, 11.422062473075188, -5.596878401366997)\n"
     ]
    },
    {
     "data": {
      "text/plain": [
       "0.8"
      ]
     },
     "execution_count": 32,
     "metadata": {},
     "output_type": "execute_result"
    }
   ],
   "source": [
    "# 梯度下降法\n",
    "from part1lib import *\n",
    "\n",
    "def secant_slope(f,xmin,xmax):\n",
    "    return (f(xmax) - f(xmin)) / (xmax - xmin)\n",
    "\n",
    "def approx_derivative(f,x,dx=1e-6):\n",
    "    return secant_slope(f,x-dx,x+dx)\n",
    "\n",
    "def approx_gradient3(f,x0,y0,z0,dx=1e-6):\n",
    "    partial_x = approx_derivative(lambda x:f(x,y0,z0),x0,dx=dx)\n",
    "    partial_y = approx_derivative(lambda y:f(x0,y,z0),y0,dx=dx)\n",
    "    partial_z = approx_derivative(lambda z:f(x0,y0,z),z0,dx=dx)\n",
    "    return (partial_x,partial_y,partial_z)\n",
    "    \n",
    "def gradient_descent3(f,xstart,ystart,zstart,tolerance=1e-6,max_steps=1000):\n",
    "    x = xstart\n",
    "    y = ystart\n",
    "    z = zstart\n",
    "    grad = approx_gradient3(f,x,y,z)\n",
    "    steps = 0\n",
    "    while length(grad) > tolerance and steps < max_steps:\n",
    "        x -= 0.01 * grad[0]\n",
    "        y -= 0.01 * grad[1]\n",
    "        z -= 0.01 * grad[2]\n",
    "        grad = approx_gradient3(f,x,y,z)\n",
    "        steps += 1\n",
    "    return x,y,z\n",
    "\n",
    "result = gradient_descent3(logistic_cost, 1, 1, 1, max_steps=100)\n",
    "print(result)\n",
    "result = gradient_descent3(logistic_cost, 1, 1, 1, max_steps=1000)\n",
    "print(result)\n",
    "result = gradient_descent3(logistic_cost, 1, 1, 1, max_steps=8000)\n",
    "print(result)\n",
    "\n",
    "def best_logistic_classifier(x, p):\n",
    "    l = make_logistic(3.716700347820625, 11.422062473075188, -5.596878401366997)\n",
    "    if l(x, p) > 0.5:\n",
    "        return 1\n",
    "    else:\n",
    "        return 0\n",
    "\n",
    "test_classifier(best_logistic_classifier, scaled_data) # 准确率在80%左右"
   ]
  }
 ],
 "metadata": {
  "kernelspec": {
   "display_name": "Python 3",
   "language": "python",
   "name": "python3"
  },
  "language_info": {
   "codemirror_mode": {
    "name": "ipython",
    "version": 3
   },
   "file_extension": ".py",
   "mimetype": "text/x-python",
   "name": "python",
   "nbconvert_exporter": "python",
   "pygments_lexer": "ipython3",
   "version": "3.7.9"
  },
  "orig_nbformat": 4,
  "vscode": {
   "interpreter": {
    "hash": "b2d2ceb361839cd66c9db6333a9ae8b368dd1d6095c0f1bc06eb5a56b35fb1be"
   }
  }
 },
 "nbformat": 4,
 "nbformat_minor": 2
}
