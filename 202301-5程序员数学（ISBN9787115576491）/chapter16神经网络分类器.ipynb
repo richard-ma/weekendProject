{
 "cells": [
  {
   "cell_type": "markdown",
   "metadata": {},
   "source": [
    "# 神经网络分类器"
   ]
  },
  {
   "cell_type": "code",
   "execution_count": 2,
   "metadata": {},
   "outputs": [
    {
     "name": "stdout",
     "output_type": "stream",
     "text": [
      "1797\n"
     ]
    },
    {
     "data": {
      "image/png": "[encoded data removed]",
      "text/plain": [
       "<Figure size 640x480 with 1 Axes>"
      ]
     },
     "metadata": {},
     "output_type": "display_data"
    }
   ],
   "source": [
    "# pip install scikit-learn\n",
    "from sklearn import datasets\n",
    "\n",
    "digits = datasets.load_digits()\n",
    "\n",
    "digits.images[0]\n",
    "print(len(digits.images))\n",
    "\n",
    "import matplotlib.pyplot as plt\n",
    "plt.imshow(digits.images[0], cmap=plt.cm.gray_r) # 将灰度图显示出来\n",
    "for i in range(0,8):\n",
    "    for j in range(0,8):\n",
    "        plt.gca().text(i-0.15,j,int(digits.images[0][i][j])) # 显示对应的灰度值"
   ]
  },
  {
   "cell_type": "code",
   "execution_count": 3,
   "metadata": {},
   "outputs": [],
   "source": [
    "import numpy as np\n",
    "\n",
    "# 产生一个10维的随机结果\n",
    "def random_classifier(input_vector):\n",
    "    return np.random.rand(10)"
   ]
  },
  {
   "cell_type": "code",
   "execution_count": 55,
   "metadata": {},
   "outputs": [
    {
     "data": {
      "text/plain": [
       "0.101"
      ]
     },
     "execution_count": 55,
     "metadata": {},
     "output_type": "execute_result"
    }
   ],
   "source": [
    "# 测试分类器的表现\n",
    "\n",
    "def test_digit_classify(classifier, start=0, test_count=1000):\n",
    "    correct = 0\n",
    "    end = start + test_count\n",
    "    for img, target in zip(digits.images[start:end], digits.target[start:end]):\n",
    "        v = np.matrix.flatten(img) / 15.0\n",
    "        output = classifier(v)\n",
    "        answer = list(output).index(max(output))\n",
    "        if answer == target:\n",
    "            correct += 1\n",
    "    return correct / test_count\n",
    "\n",
    "test_digit_classify(random_classifier) # 这个随机的分类器成功率在10%左右\n",
    "\n",
    "# 作者有很明显的测试驱动开发的倾向，都是先介绍评价和测试方法，然后一步步完善功能"
   ]
  },
  {
   "cell_type": "code",
   "execution_count": 47,
   "metadata": {},
   "outputs": [
    {
     "data": {
      "text/plain": [
       "0.853"
      ]
     },
     "execution_count": 47,
     "metadata": {},
     "output_type": "execute_result"
    }
   ],
   "source": [
    "# 用平均值取代最大值\n",
    "\n",
    "# 计算图像的平均值\n",
    "def average_img(i):\n",
    "    imgs = [img for img, target in zip(digits.images[1000:], digits.target[1000:]) if target == i]\n",
    "    return sum(imgs) / len(imgs)\n",
    "\n",
    "avg_digits = [np.matrix.flatten(average_img(i)) for i in range(10)]\n",
    "\n",
    "def compare_to_avg(v):\n",
    "    return [np.dot(v, avg_digits[i]) for i in range(10)]\n",
    "\n",
    "test_digit_classify(compare_to_avg)"
   ]
  },
  {
   "cell_type": "code",
   "execution_count": 48,
   "metadata": {},
   "outputs": [
    {
     "name": "stdout",
     "output_type": "stream",
     "text": [
      "Iteration 1, loss = 2.23866635\n",
      "Iteration 2, loss = 1.77438032\n",
      "Iteration 3, loss = 1.41744858\n",
      "Iteration 4, loss = 1.10850064\n",
      "Iteration 5, loss = 0.88313506\n",
      "Iteration 6, loss = 0.77476369\n",
      "Iteration 7, loss = 0.63336397\n",
      "Iteration 8, loss = 0.53837653\n",
      "Iteration 9, loss = 0.51954118\n",
      "Iteration 10, loss = 0.45632287\n",
      "Iteration 11, loss = 0.46623044\n",
      "Iteration 12, loss = 0.42578942\n",
      "Iteration 13, loss = 0.40520821\n",
      "Iteration 14, loss = 0.41714433\n",
      "Iteration 15, loss = 0.39587728\n",
      "Iteration 16, loss = 0.36670745\n",
      "Iteration 17, loss = 0.33076558\n",
      "Iteration 18, loss = 0.27120191\n",
      "Iteration 19, loss = 0.27076003\n",
      "Iteration 20, loss = 0.27453754\n",
      "Iteration 21, loss = 0.25062148\n",
      "Iteration 22, loss = 0.24052226\n",
      "Iteration 23, loss = 0.24145593\n",
      "Iteration 24, loss = 0.24648642\n",
      "Iteration 25, loss = 0.24676136\n",
      "Iteration 26, loss = 0.26465972\n",
      "Iteration 27, loss = 0.25571450\n",
      "Iteration 28, loss = 0.34484054\n",
      "Iteration 29, loss = 0.29028155\n",
      "Iteration 30, loss = 0.31202279\n",
      "Iteration 31, loss = 0.28848171\n",
      "Iteration 32, loss = 0.25608566\n",
      "Iteration 33, loss = 0.22839948\n",
      "Iteration 34, loss = 0.22251316\n",
      "Iteration 35, loss = 0.24041368\n",
      "Iteration 36, loss = 0.21315336\n",
      "Iteration 37, loss = 0.20123179\n",
      "Iteration 38, loss = 0.21088146\n",
      "Iteration 39, loss = 0.19183780\n",
      "Iteration 40, loss = 0.23827261\n",
      "Iteration 41, loss = 0.19592629\n",
      "Iteration 42, loss = 0.18617021\n",
      "Iteration 43, loss = 0.15463940\n",
      "Iteration 44, loss = 0.15808322\n",
      "Iteration 45, loss = 0.23473876\n",
      "Iteration 46, loss = 0.22215732\n",
      "Iteration 47, loss = 0.25047698\n",
      "Iteration 48, loss = 0.21625559\n",
      "Iteration 49, loss = 0.16706596\n",
      "Iteration 50, loss = 0.17395195\n",
      "Iteration 51, loss = 0.15566160\n",
      "Iteration 52, loss = 0.18301999\n",
      "Iteration 53, loss = 0.20899327\n",
      "Iteration 54, loss = 0.20677611\n",
      "Training loss did not improve more than tol=0.000100 for 10 consecutive epochs. Stopping.\n"
     ]
    },
    {
     "data": {
      "text/plain": [
       "MLPClassifier(activation='logistic', hidden_layer_sizes=(16,),\n",
       "              learning_rate_init=0.1, max_iter=100, random_state=1, verbose=10)"
      ]
     },
     "execution_count": 48,
     "metadata": {},
     "output_type": "execute_result"
    }
   ],
   "source": [
    "# 使用scikit-learn进行自动训练\n",
    "from sklearn.neural_network import MLPClassifier\n",
    "import numpy as np\n",
    "\n",
    "\n",
    "x = np.array([np.matrix.flatten(img) for img in digits.images[:1000]])\n",
    "y = digits.target[:1000]\n",
    "\n",
    "mlp = MLPClassifier(\n",
    "    hidden_layer_sizes=(16,),\n",
    "    activation='logistic',\n",
    "    max_iter=100,\n",
    "    verbose=10,\n",
    "    random_state=1,\n",
    "    learning_rate_init=0.1\n",
    ")\n",
    "\n",
    "mlp.fit(x, y)\n",
    "# 训练模型完毕"
   ]
  },
  {
   "cell_type": "code",
   "execution_count": 53,
   "metadata": {},
   "outputs": [
    {
     "name": "stdout",
     "output_type": "stream",
     "text": [
      "0 0\n",
      "1 1\n",
      "2 2\n",
      "3 3\n",
      "4 4\n",
      "3 5\n",
      "6 6\n",
      "7 7\n",
      "8 8\n",
      "9 9\n"
     ]
    },
    {
     "data": {
      "text/plain": [
       "0.931"
      ]
     },
     "execution_count": 53,
     "metadata": {},
     "output_type": "execute_result"
    }
   ],
   "source": [
    "for i in range(10):\n",
    "    answer = mlp.predict_proba([x[i]])[0]\n",
    "    print(list(answer).index(max(answer)), digits.target[i]) # 训练集中的第一个结果\n",
    "\n",
    "def sklearn_trained_classify(v):\n",
    "    return mlp.predict_proba([v])[0]\n",
    "\n",
    "test_digit_classify(sklearn_trained_classify) # 准确度在93.1%"
   ]
  },
  {
   "cell_type": "code",
   "execution_count": 57,
   "metadata": {},
   "outputs": [
    {
     "data": {
      "text/plain": [
       "0.89"
      ]
     },
     "execution_count": 57,
     "metadata": {},
     "output_type": "execute_result"
    }
   ],
   "source": [
    "# 测试其余项目\n",
    "test_digit_classify(sklearn_trained_classify, start=1000, test_count=500)"
   ]
  }
 ],
 "metadata": {
  "kernelspec": {
   "display_name": "Python 3",
   "language": "python",
   "name": "python3"
  },
  "language_info": {
   "codemirror_mode": {
    "name": "ipython",
    "version": 3
   },
   "file_extension": ".py",
   "mimetype": "text/x-python",
   "name": "python",
   "nbconvert_exporter": "python",
   "pygments_lexer": "ipython3",
   "version": "3.7.9 (tags/v3.7.9:13c94747c7, Aug 17 2020, 18:58:18) [MSC v.1900 64 bit (AMD64)]"
  },
  "orig_nbformat": 4,
  "vscode": {
   "interpreter": {
    "hash": "b2d2ceb361839cd66c9db6333a9ae8b368dd1d6095c0f1bc06eb5a56b35fb1be"
   }
  }
 },
 "nbformat": 4,
 "nbformat_minor": 2
}
