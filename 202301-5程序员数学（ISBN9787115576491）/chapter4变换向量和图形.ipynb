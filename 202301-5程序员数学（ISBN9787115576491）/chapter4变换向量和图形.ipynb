{
 "cells": [
  {
   "attachments": {},
   "cell_type": "markdown",
   "metadata": {},
   "source": [
    "# 变换向量和图形\n",
    "\n",
    "## 函数柯里化"
   ]
  },
  {
   "cell_type": "code",
   "execution_count": 7,
   "metadata": {},
   "outputs": [
    {
     "name": "stdout",
     "output_type": "stream",
     "text": [
      "(9, 27, 21)\n",
      "(2, 9, 7)\n"
     ]
    }
   ],
   "source": [
    "def scale_by(scalar):\n",
    "    def new_function(v):\n",
    "        return scale(scalar, v)\n",
    "    return new_function\n",
    "\n",
    "v = (3, 9, 7)\n",
    "scale_by_3 = scale_by(3)\n",
    "print(scale_by_3(v))\n",
    "\n",
    "def translate_by(translation):\n",
    "    def new_function(v):\n",
    "        return add(translation, v)\n",
    "    return new_function\n",
    "\n",
    "translation = (-1, 0, 0)\n",
    "translate_left_1 = translate_by(translation) # move left 1\n",
    "print(translate_left_1(v))"
   ]
  },
  {
   "attachments": {},
   "cell_type": "markdown",
   "metadata": {},
   "source": [
    "## 函数的组合"
   ]
  },
  {
   "cell_type": "code",
   "execution_count": 5,
   "metadata": {},
   "outputs": [
    {
     "data": {
      "text/plain": [
       "'Python'"
      ]
     },
     "execution_count": 5,
     "metadata": {},
     "output_type": "execute_result"
    }
   ],
   "source": [
    "def compose(*args):\n",
    "    def new_function(input_value):\n",
    "        state = input_value\n",
    "        for f in reversed(args):\n",
    "            state = f(state)\n",
    "        return state\n",
    "    return new_function\n",
    "\n",
    "# test\n",
    "def prepend(string):\n",
    "    def new_function(input_value):\n",
    "        return string + input_value\n",
    "    return new_function\n",
    "f = compose(prepend(\"P\"), prepend(\"y\"), prepend(\"t\")) # f=prepend_P(prepend_y(prepend_t(input_vlaue)))\n",
    "f(\"hon\")"
   ]
  },
  {
   "attachments": {},
   "cell_type": "markdown",
   "metadata": {},
   "source": [
    "##### TIPS: Hypothesis库可以用来检测向量变换是否是线性的"
   ]
  },
  {
   "attachments": {},
   "cell_type": "markdown",
   "metadata": {},
   "source": [
    "## 线性组合"
   ]
  },
  {
   "cell_type": "code",
   "execution_count": 6,
   "metadata": {},
   "outputs": [
    {
     "data": {
      "text/plain": [
       "(1, 2, 3)"
      ]
     },
     "execution_count": 6,
     "metadata": {},
     "output_type": "execute_result"
    }
   ],
   "source": [
    "from lib import *\n",
    "\n",
    "def linear_combination(scalars, *vectors):\n",
    "    scaled = [scale(s, v) for s, v in zip(scalars, vectors)]\n",
    "    return add(*scaled)\n",
    "\n",
    "linear_combination([1, 2, 3], (1, 0, 0), (0, 1, 0), (0, 0, 1))"
   ]
  },
  {
   "attachments": {},
   "cell_type": "markdown",
   "metadata": {},
   "source": [
    "## 将线性变换变为矩阵"
   ]
  },
  {
   "cell_type": "code",
   "execution_count": 8,
   "metadata": {},
   "outputs": [
    {
     "data": {
      "text/plain": [
       "((2, 0, 0), (0, 2, 0), (0, 0, 2))"
      ]
     },
     "execution_count": 8,
     "metadata": {},
     "output_type": "execute_result"
    }
   ],
   "source": [
    "def transform_standard_basis(transform):\n",
    "    return (transform((1, 0, 0)), transform((0, 1, 0)), transform((0, 0, 1)))\n",
    "\n",
    "transform_standard_basis(scale_by(2))"
   ]
  },
  {
   "attachments": {},
   "cell_type": "markdown",
   "metadata": {},
   "source": [
    "# 总结\n",
    "* 向量变换是将输入向量变换为新向量\n",
    "* 缩放和平移是线性变换，这两种的标量乘法和向量加法的任意组合，也是线性变换\n",
    "* 线性变换应该是闭包的\n",
    "* 任意向量可以写成标基向量的线性组合\n",
    "    * 三维空间中使用三个向量可以描述一个线性变换\n",
    "    * 二维空间中使用两个向量可以描述一个线性变换\n",
    "    * 矩阵表示一个线性变换"
   ]
  }
 ],
 "metadata": {
  "kernelspec": {
   "display_name": "Python 3",
   "language": "python",
   "name": "python3"
  },
  "language_info": {
   "codemirror_mode": {
    "name": "ipython",
    "version": 3
   },
   "file_extension": ".py",
   "mimetype": "text/x-python",
   "name": "python",
   "nbconvert_exporter": "python",
   "pygments_lexer": "ipython3",
   "version": "3.7.9"
  },
  "orig_nbformat": 4,
  "vscode": {
   "interpreter": {
    "hash": "b2d2ceb361839cd66c9db6333a9ae8b368dd1d6095c0f1bc06eb5a56b35fb1be"
   }
  }
 },
 "nbformat": 4,
 "nbformat_minor": 2
}
