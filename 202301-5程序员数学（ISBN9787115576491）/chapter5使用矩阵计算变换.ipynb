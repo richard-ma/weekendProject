{
 "cells": [
  {
   "attachments": {},
   "cell_type": "markdown",
   "metadata": {},
   "source": [
    "# 使用矩阵计算变换\n",
    "\n",
    "## 将线性变换写成矩阵形式\n",
    "```\n",
    "    0 2 1\n",
    "B = 0 1 0\n",
    "    1 0 -1\n",
    "\n",
    "v = (3, -2, 5)\n",
    "\n",
    "       \n",
    "           0        2       1     1\n",
    "B(v) = 3 · 0 + -2 · 1 + 5 · 0  = -2\n",
    "           1        0      -1    -2\n",
    "```\n",
    "\n",
    "向量v经过线性变换B的结果向量为(1, -2, -2)\n",
    "\n",
    "`以上过程就是矩阵乘法，也就是对向量进行线性变换的过程`"
   ]
  },
  {
   "cell_type": "code",
   "execution_count": 2,
   "metadata": {},
   "outputs": [
    {
     "data": {
      "text/plain": [
       "(1, -2, -2)"
      ]
     },
     "execution_count": 2,
     "metadata": {},
     "output_type": "execute_result"
    }
   ],
   "source": [
    "B = (\n",
    "    (0, 2, 1),\n",
    "    (0, 1, 0),\n",
    "    (1, 0, -1),\n",
    ")\n",
    "\n",
    "v = (3, -2, 5)\n",
    "\n",
    "from lib import *\n",
    "\n",
    "def multiply_matrix_vector(matrix, vector):\n",
    "    return linear_combination(vector, *zip(*matrix))\n",
    "\n",
    "multiply_matrix_vector(B, v)"
   ]
  },
  {
   "cell_type": "code",
   "execution_count": 9,
   "metadata": {},
   "outputs": [
    {
     "data": {
      "text/plain": [
       "(1, -2, -2)"
      ]
     },
     "execution_count": 9,
     "metadata": {},
     "output_type": "execute_result"
    }
   ],
   "source": [
    "def multiply_matrix_vector2(matrix, vector):\n",
    "    return tuple(\n",
    "        sum(vector_entry * matrix_entry for vector_entry, matrix_entry in zip(row, vector)) for row in matrix\n",
    "    )\n",
    "\n",
    "multiply_matrix_vector2(B, v)"
   ]
  },
  {
   "cell_type": "code",
   "execution_count": 11,
   "metadata": {},
   "outputs": [
    {
     "data": {
      "text/plain": [
       "(1, -2, -2)"
      ]
     },
     "execution_count": 11,
     "metadata": {},
     "output_type": "execute_result"
    }
   ],
   "source": [
    "def multiply_matrix_vector3(matrix, vector):\n",
    "    return tuple(\n",
    "        dot(row, vector) for row in matrix\n",
    "    )\n",
    "\n",
    "multiply_matrix_vector3(B, v)"
   ]
  },
  {
   "cell_type": "markdown",
   "metadata": {},
   "source": [
    "## 用矩阵相乘来组合线性变换\n",
    "* 矩阵乘法 AB A的行与B的列做点积"
   ]
  },
  {
   "cell_type": "code",
   "execution_count": 5,
   "metadata": {},
   "outputs": [
    {
     "data": {
      "text/plain": [
       "((0, 3, 1), (1, 2, 0), (1, 1, 0))"
      ]
     },
     "execution_count": 5,
     "metadata": {},
     "output_type": "execute_result"
    }
   ],
   "source": [
    "def matrix_multiply(a, b):\n",
    "    return tuple(\n",
    "        tuple(dot(row, col) for col in zip(*b)) for row in a\n",
    "    )\n",
    "\n",
    "a = ((1, 1, 0), (1, 0, 1), (1, -1, 1))\n",
    "b = ((0, 2, 1), (0, 1, 0), (1, 0, -1))\n",
    "\n",
    "assert not matrix_multiply(a, b) == matrix_multiply(b, a) # ab 与 ba 的结果不同\n",
    "\n",
    "matrix_multiply(a, b)"
   ]
  },
  {
   "attachments": {},
   "cell_type": "markdown",
   "metadata": {},
   "source": [
    "* 接收任意维度的线性变换函数，将其变为矩阵形式"
   ]
  },
  {
   "cell_type": "code",
   "execution_count": 7,
   "metadata": {},
   "outputs": [
    {
     "name": "stdout",
     "output_type": "stream",
     "text": [
      "((2, 0), (0, 2))\n",
      "((2, 0, 0), (0, 2, 0), (0, 0, 2))\n"
     ]
    }
   ],
   "source": [
    "def infer_matrix(n, transformation):\n",
    "    def standard_basis_vector(i):\n",
    "        return tuple(1 if i == j else 0 for j in range(n))\n",
    "    standard_basis = [standard_basis_vector(i) for i in range(n)]\n",
    "\n",
    "    cols = [transformation(v) for v in standard_basis]\n",
    "\n",
    "    return tuple(zip(*cols))\n",
    "\n",
    "# transformation\n",
    "def scale_by(scalar):\n",
    "    def new_function(v):\n",
    "        return scale(scalar, v)\n",
    "    return new_function\n",
    "\n",
    "print(infer_matrix(2, scale_by(2)))\n",
    "print(infer_matrix(3, scale_by(2)))"
   ]
  },
  {
   "cell_type": "code",
   "execution_count": 13,
   "metadata": {},
   "outputs": [
    {
     "name": "stdout",
     "output_type": "stream",
     "text": [
      "((0, 3, 1), (1, 2, 0), (1, 1, 0))\n",
      "((0, 3, 1), (1, 2, 0), (1, 1, 0))\n"
     ]
    }
   ],
   "source": [
    "# 练习5.10 证明通过函数组合得到的矩阵和矩阵乘法计算的矩阵相等，且都表示同样的线性变换\n",
    "\n",
    "from lib import *\n",
    "\n",
    "a = ((1, 1, 0), (1, 0, 1), (1, -1, 1))\n",
    "b = ((0, 2, 1), (0, 1, 0), (1, 0, -1))\n",
    "\n",
    "def transform_a(v):\n",
    "    return multiply_matrix_vector(a, v)\n",
    "\n",
    "def transform_b(v):\n",
    "    return multiply_matrix_vector(b, v)\n",
    "\n",
    "compose_ab = compose(transform_a, transform_b) # a, b变换的组合(函数组合)\n",
    "\n",
    "res_a = infer_matrix(3, compose_ab) # 计算a，b变换组合的矩阵\n",
    "res_b = matrix_multiply(a, b) # 计算a，b矩阵的乘积\n",
    "\n",
    "print(res_a)\n",
    "print(res_b)\n",
    "\n",
    "assert res_a == res_b"
   ]
  },
  {
   "attachments": {},
   "cell_type": "markdown",
   "metadata": {},
   "source": [
    "## 矩阵的幂\n",
    "\n",
    "* AAA 写作 A^3"
   ]
  },
  {
   "cell_type": "code",
   "execution_count": 19,
   "metadata": {},
   "outputs": [
    {
     "data": {
      "text/plain": [
       "((40, 49, 58), (64, 79, 94), (88, 109, 130))"
      ]
     },
     "execution_count": 19,
     "metadata": {},
     "output_type": "execute_result"
    }
   ],
   "source": [
    "from lib import *\n",
    "\n",
    "def matrix_power(power, matrix):\n",
    "    result = matrix\n",
    "\n",
    "    for _ in range(1, power):\n",
    "        result = matrix_multiply(result, matrix)\n",
    "    \n",
    "    return result\n",
    "\n",
    "a = ((2, 3, 4), (4, 5, 6), (6, 7, 8))\n",
    "matrix_power(2, a)"
   ]
  },
  {
   "attachments": {},
   "cell_type": "markdown",
   "metadata": {},
   "source": [
    "## 矩阵转置\n",
    "* A行列向量交换 写作 A^T"
   ]
  },
  {
   "cell_type": "code",
   "execution_count": 20,
   "metadata": {},
   "outputs": [
    {
     "data": {
      "text/plain": [
       "((1,), (2,), (3,))"
      ]
     },
     "execution_count": 20,
     "metadata": {},
     "output_type": "execute_result"
    }
   ],
   "source": [
    "def transpose(matrix):\n",
    "    return tuple(zip(matrix))\n",
    "\n",
    "transpose(((1, 2, 3)))"
   ]
  }
 ],
 "metadata": {
  "kernelspec": {
   "display_name": "Python 3",
   "language": "python",
   "name": "python3"
  },
  "language_info": {
   "codemirror_mode": {
    "name": "ipython",
    "version": 3
   },
   "file_extension": ".py",
   "mimetype": "text/x-python",
   "name": "python",
   "nbconvert_exporter": "python",
   "pygments_lexer": "ipython3",
   "version": "3.7.9"
  },
  "orig_nbformat": 4,
  "vscode": {
   "interpreter": {
    "hash": "b2d2ceb361839cd66c9db6333a9ae8b368dd1d6095c0f1bc06eb5a56b35fb1be"
   }
  }
 },
 "nbformat": 4,
 "nbformat_minor": 2
}
