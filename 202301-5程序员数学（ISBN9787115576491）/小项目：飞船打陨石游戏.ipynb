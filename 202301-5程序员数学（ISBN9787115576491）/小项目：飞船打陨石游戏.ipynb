{
 "cells": [
  {
   "attachments": {},
   "cell_type": "markdown",
   "metadata": {},
   "source": [
    "# 小项目：飞船打陨石游戏\n",
    "\n",
    "## 绘制静态图像"
   ]
  },
  {
   "cell_type": "code",
   "execution_count": 9,
   "metadata": {},
   "outputs": [],
   "source": [
    "from random import *\n",
    "from math import *\n",
    "from part1lib import *\n",
    "import pygame, sys\n",
    "\n",
    "\n",
    "class PolygonModel:\n",
    "    def __init__(self, points):\n",
    "        self.points = points\n",
    "        self.rotation_angle = 0\n",
    "        self.x = 0\n",
    "        self.y = 0\n",
    "\n",
    "    def transformed(self):\n",
    "        return tuple(rotate(self.rotation_angle, (add(p, (self.x, self.y)) for p in self.points)))\n",
    "\n",
    "class Ship(PolygonModel):\n",
    "    def __init__(self):\n",
    "        super().__init__([(0.5, 0), (-0.25, 0), (-0.25, -0.25)])\n",
    "\n",
    "class Asteroid(PolygonModel):\n",
    "    def __init__(self):\n",
    "        sides = randint(5, 9)\n",
    "        vs = [to_cartesian((uniform(0.5, 1.0), 2*pi*i/sides)) for i in range(sides)]\n",
    "        super().__init__(vs)\n",
    "\n",
    "\n",
    "def to_pixels(x, y):\n",
    "    return ((x+10)*20, (-y+10)*20)\n",
    "\n",
    "GREEN = (0, 255, 0)\n",
    "def draw_poly(screen, polygon_model, color=GREEN):\n",
    "    pixels_points = [to_pixels(x, y) for x, y in polygon_model.transformed()]\n",
    "    pygame.draw.aalines(screen, color, True, pixels_points, 10)\n",
    "\n",
    "# main loop\n",
    "ship = Ship()\n",
    "\n",
    "asteroid_count = 10\n",
    "asteroids = [Asteroid() for _ in range(asteroid_count)]\n",
    "for ast in asteroids:\n",
    "    ast.x = randint(-9, 9)\n",
    "    ast.y = randint(-9, 9)\n",
    "\n",
    "pygame.init()\n",
    "\n",
    "size = width, height = 400, 400\n",
    "screen = pygame.display.set_mode(size)\n",
    "pygame.display.set_caption(\"Asteroid!\")\n",
    "\n",
    "done = False\n",
    "clock = pygame.time.Clock()\n",
    "while not done:\n",
    "    clock.tick(60) # 设定每秒帧率，节省CPU资源\n",
    "    for event in pygame.event.get():\n",
    "        if event.type == pygame.QUIT:\n",
    "            done = True\n",
    "\n",
    "        draw_poly(screen, ship)\n",
    "        for ast in asteroids:\n",
    "            draw_poly(screen, ast)\n",
    "    \n",
    "        pygame.display.flip()\n",
    "\n",
    "pygame.quit()"
   ]
  },
  {
   "cell_type": "markdown",
   "metadata": {},
   "source": [
    "## 让物体运动起来\n",
    "## 模拟力场添加黑洞 "
   ]
  }
 ],
 "metadata": {
  "kernelspec": {
   "display_name": "Python 3",
   "language": "python",
   "name": "python3"
  },
  "language_info": {
   "codemirror_mode": {
    "name": "ipython",
    "version": 3
   },
   "file_extension": ".py",
   "mimetype": "text/x-python",
   "name": "python",
   "nbconvert_exporter": "python",
   "pygments_lexer": "ipython3",
   "version": "3.7.9"
  },
  "orig_nbformat": 4,
  "vscode": {
   "interpreter": {
    "hash": "b2d2ceb361839cd66c9db6333a9ae8b368dd1d6095c0f1bc06eb5a56b35fb1be"
   }
  }
 },
 "nbformat": 4,
 "nbformat_minor": 2
}
